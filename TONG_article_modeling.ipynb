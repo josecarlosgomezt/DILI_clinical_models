{
 "cells": [
  {
   "cell_type": "markdown",
   "metadata": {},
   "source": [
    "# Translating Clinical Findings into Knowledge in Drug Safety Evaluation - Drug Induced Liver Injury Prediction System (DILIps)\n"
   ]
  },
  {
   "cell_type": "markdown",
   "metadata": {},
   "source": [
    "This notebook analyzes clinical data for DILI and tries to reproduce Zhichao Liu models.\n",
    "    \n",
    "    Index:\n",
    "            - Data Analysis: Side effects distribution, clustering and correlations.\n",
    "            \n",
    "            - Model building: Build models reproducing Liu ones, keeping only those with good quality metrics.\n",
    "                  FLAME modeling framework is used in this step https://github.com/phi-grib/flame.\n",
    "              \n",
    "            - Model validation: Validate models using the same test set.\n",
    "            \n",
    "            - Analysis of side-effect importance. Which are the most related to DILI?\n",
    "            \n",
    "            - Class type and number of models incriminating DILO --> Comparison to Zhichao Liu models\n",
    "            \n",
    "            - Discussion: Some text judging the results.\n",
    "        \n",
    "            \n"
   ]
  },
  {
   "cell_type": "markdown",
   "metadata": {},
   "source": [
    "## Analysis of the dataset"
   ]
  },
  {
   "cell_type": "code",
   "execution_count": 15,
   "metadata": {},
   "outputs": [],
   "source": [
    "import pandas as pd\n",
    "from rdkit.Chem import PandasTools as pt\n",
    "import matplotlib.pyplot as plt\n",
    "import seaborn as sns\n",
    "sns.set_style(\"dark\")\n",
    "from structure_resolver import * # homemade library to resolve structures from identifiers\n",
    "                                  # https://github.com/josecarlosgomezt/structure_search\n",
    "from rdkit.Chem import AllChem\n",
    "from sklearn.metrics import confusion_matrix as cm\n",
    "from sklearn.metrics import matthews_corrcoef as mcc\n",
    "from sklearn.cross_decomposition import PLSRegression\n"
   ]
  },
  {
   "cell_type": "code",
   "execution_count": 10,
   "metadata": {},
   "outputs": [],
   "source": [
    "# Import Flame and RDKit libraries\n",
    "\n",
    "from flame.build import Build\n",
    "from flame.predict import Predict\n",
    "from flame.manage import *\n",
    "from rdkit.Chem import PandasTools as pt"
   ]
  },
  {
   "cell_type": "code",
   "execution_count": 524,
   "metadata": {},
   "outputs": [],
   "source": [
    "# Read the data with training set, sheet 0.\n",
    "tong = pd.read_excel('tong_data.xls', 0)"
   ]
  },
  {
   "cell_type": "code",
   "execution_count": 525,
   "metadata": {},
   "outputs": [
    {
     "data": {
      "text/html": [
       "<table border=\"1\" class=\"dataframe\">\n",
       "  <thead>\n",
       "    <tr style=\"text-align: right;\">\n",
       "      <th></th>\n",
       "      <th>DrugbankID</th>\n",
       "      <th>Generic names</th>\n",
       "      <th>PubCID</th>\n",
       "      <th>bilirubinemia</th>\n",
       "      <th>cholecystitis</th>\n",
       "      <th>cholelithiasis</th>\n",
       "      <th>cirrhosis</th>\n",
       "      <th>elevated liver function tests</th>\n",
       "      <th>hepatic failure</th>\n",
       "      <th>hepatic necrosis</th>\n",
       "      <th>hepatitis</th>\n",
       "      <th>hepatomegaly</th>\n",
       "      <th>jaundice</th>\n",
       "      <th>liver disease</th>\n",
       "      <th>liver fatty</th>\n",
       "      <th>liver function tests abnormal</th>\n",
       "      <th>Combined Scores</th>\n",
       "      <th>Distribution_Status</th>\n",
       "    </tr>\n",
       "  </thead>\n",
       "  <tbody>\n",
       "    <tr>\n",
       "      <th>0</th>\n",
       "      <td>DB00333</td>\n",
       "      <td>methadone</td>\n",
       "      <td>4095</td>\n",
       "      <td>0</td>\n",
       "      <td>0</td>\n",
       "      <td>0</td>\n",
       "      <td>0</td>\n",
       "      <td>0</td>\n",
       "      <td>0</td>\n",
       "      <td>0</td>\n",
       "      <td>0</td>\n",
       "      <td>0</td>\n",
       "      <td>0</td>\n",
       "      <td>0</td>\n",
       "      <td>0</td>\n",
       "      <td>0</td>\n",
       "      <td>0</td>\n",
       "      <td>training</td>\n",
       "    </tr>\n",
       "    <tr>\n",
       "      <th>1</th>\n",
       "      <td>DB00331</td>\n",
       "      <td>metformin</td>\n",
       "      <td>4091</td>\n",
       "      <td>0</td>\n",
       "      <td>0</td>\n",
       "      <td>0</td>\n",
       "      <td>0</td>\n",
       "      <td>0</td>\n",
       "      <td>0</td>\n",
       "      <td>0</td>\n",
       "      <td>1</td>\n",
       "      <td>0</td>\n",
       "      <td>0</td>\n",
       "      <td>0</td>\n",
       "      <td>0</td>\n",
       "      <td>1</td>\n",
       "      <td>2</td>\n",
       "      <td>training</td>\n",
       "    </tr>\n",
       "    <tr>\n",
       "      <th>2</th>\n",
       "      <td>DB00958</td>\n",
       "      <td>carboplatin</td>\n",
       "      <td>38904</td>\n",
       "      <td>0</td>\n",
       "      <td>0</td>\n",
       "      <td>0</td>\n",
       "      <td>0</td>\n",
       "      <td>0</td>\n",
       "      <td>0</td>\n",
       "      <td>0</td>\n",
       "      <td>0</td>\n",
       "      <td>0</td>\n",
       "      <td>0</td>\n",
       "      <td>0</td>\n",
       "      <td>0</td>\n",
       "      <td>1</td>\n",
       "      <td>1</td>\n",
       "      <td>training</td>\n",
       "    </tr>\n",
       "    <tr>\n",
       "      <th>3</th>\n",
       "      <td>DB00816</td>\n",
       "      <td>metaproterenol</td>\n",
       "      <td>4086</td>\n",
       "      <td>0</td>\n",
       "      <td>0</td>\n",
       "      <td>0</td>\n",
       "      <td>0</td>\n",
       "      <td>0</td>\n",
       "      <td>0</td>\n",
       "      <td>0</td>\n",
       "      <td>0</td>\n",
       "      <td>0</td>\n",
       "      <td>0</td>\n",
       "      <td>0</td>\n",
       "      <td>0</td>\n",
       "      <td>0</td>\n",
       "      <td>0</td>\n",
       "      <td>training</td>\n",
       "    </tr>\n",
       "    <tr>\n",
       "      <th>4</th>\n",
       "      <td>DB00933</td>\n",
       "      <td>mesoridazine</td>\n",
       "      <td>4078</td>\n",
       "      <td>0</td>\n",
       "      <td>0</td>\n",
       "      <td>0</td>\n",
       "      <td>0</td>\n",
       "      <td>0</td>\n",
       "      <td>0</td>\n",
       "      <td>0</td>\n",
       "      <td>0</td>\n",
       "      <td>0</td>\n",
       "      <td>1</td>\n",
       "      <td>0</td>\n",
       "      <td>0</td>\n",
       "      <td>0</td>\n",
       "      <td>1</td>\n",
       "      <td>training</td>\n",
       "    </tr>\n",
       "  </tbody>\n",
       "</table>"
      ],
      "text/plain": [
       "  DrugbankID   Generic names  PubCID  bilirubinemia  cholecystitis  cholelithiasis  cirrhosis  elevated liver function tests  hepatic failure  hepatic necrosis  hepatitis  hepatomegaly  jaundice  liver disease  liver fatty  liver function tests abnormal  Combined Scores Distribution_Status\n",
       "0    DB00333       methadone    4095              0              0               0          0                              0                0                 0          0             0         0              0            0                              0                0           training \n",
       "1    DB00331       metformin    4091              0              0               0          0                              0                0                 0          1             0         0              0            0                              1                2           training \n",
       "2    DB00958     carboplatin   38904              0              0               0          0                              0                0                 0          0             0         0              0            0                              1                1           training \n",
       "3    DB00816  metaproterenol    4086              0              0               0          0                              0                0                 0          0             0         0              0            0                              0                0           training \n",
       "4    DB00933    mesoridazine    4078              0              0               0          0                              0                0                 0          0             0         1              0            0                              0                1           training "
      ]
     },
     "execution_count": 525,
     "metadata": {},
     "output_type": "execute_result"
    }
   ],
   "source": [
    "tong.head()"
   ]
  },
  {
   "cell_type": "code",
   "execution_count": 526,
   "metadata": {},
   "outputs": [
    {
     "data": {
      "text/plain": [
       "0     424\n",
       "1     164\n",
       "2     110\n",
       "3      71\n",
       "4      51\n",
       "5      32\n",
       "7      15\n",
       "6      13\n",
       "8       7\n",
       "10      1\n",
       "Name: Combined Scores, dtype: int64"
      ]
     },
     "execution_count": 526,
     "metadata": {},
     "output_type": "execute_result"
    }
   ],
   "source": [
    "# Distribution of number of side effects per compound.\n",
    "tong['Combined Scores'].value_counts()"
   ]
  },
  {
   "cell_type": "code",
   "execution_count": 527,
   "metadata": {},
   "outputs": [
    {
     "data": {
      "image/png": "[encoded data removed]",
      "text/plain": [
       "<Figure size 432x288 with 1 Axes>"
      ]
     },
     "metadata": {},
     "output_type": "display_data"
    }
   ],
   "source": [
    "# Plot the distribution of side effects in the data. \n",
    "x = []\n",
    "y = []\n",
    "for col in tong.columns[3:16]:\n",
    "    x.append(tong[col].value_counts()[1])\n",
    "    y.append(col)\n",
    "ax = sns.barplot(x=y, y=x)\n",
    "ax = ax.set_xticklabels(ax.get_xticklabels(),rotation=90)"
   ]
  },
  {
   "cell_type": "code",
   "execution_count": 528,
   "metadata": {},
   "outputs": [],
   "source": [
    "# Get a subframe with only side effect columns\n",
    "subframe = tong[tong.columns[3:16]]"
   ]
  },
  {
   "cell_type": "code",
   "execution_count": 529,
   "metadata": {},
   "outputs": [
    {
     "data": {
      "image/png": "[encoded data removed]",
      "text/plain": [
       "<Figure size 720x720 with 4 Axes>"
      ]
     },
     "metadata": {},
     "output_type": "display_data"
    }
   ],
   "source": [
    "# Plot a clustermap of side effects.\n",
    "cluster_map = sns.clustermap(subframe)"
   ]
  },
  {
   "cell_type": "code",
   "execution_count": null,
   "metadata": {},
   "outputs": [],
   "source": [
    "# Get the correlation matrix among side effects and plot it in a \n",
    "# heatmap\n",
    "correlation = subframe.corr()\n",
    "plt.figure(figsize=(12,8))\n",
    "heatmap = sns.heatmap(correlation)"
   ]
  },
  {
   "cell_type": "code",
   "execution_count": null,
   "metadata": {},
   "outputs": [],
   "source": [
    "# Show correlation matrix\n",
    "correlation.head()"
   ]
  },
  {
   "cell_type": "code",
   "execution_count": null,
   "metadata": {},
   "outputs": [],
   "source": []
  },
  {
   "cell_type": "code",
   "execution_count": null,
   "metadata": {},
   "outputs": [],
   "source": [
    "## Lets add structures to the dataframe. If this step was already done\n",
    "## go to the next section and load the sdf file\n",
    "\n",
    "tong.shape"
   ]
  },
  {
   "cell_type": "code",
   "execution_count": null,
   "metadata": {},
   "outputs": [],
   "source": [
    "# Get InChIs using homemade structure_resolver script\n",
    "tong = add_inchis(tong, name='Generic names', DBID='DrugbankID')"
   ]
  },
  {
   "cell_type": "code",
   "execution_count": null,
   "metadata": {},
   "outputs": [],
   "source": [
    "# Show entries with not found InChIs\n",
    "tong[tong['InChI'] == False]"
   ]
  },
  {
   "cell_type": "code",
   "execution_count": null,
   "metadata": {},
   "outputs": [],
   "source": [
    "# Discard InChIs\n",
    "tong_clean = tong[tong['InChI'] != False]"
   ]
  },
  {
   "cell_type": "code",
   "execution_count": null,
   "metadata": {},
   "outputs": [],
   "source": [
    "# Get MOls from InChIs\n",
    "mols = []\n",
    "for inchi in tong_clean['InChI']:\n",
    "    mols.append(AllChem.MolFromInchi(inchi))\n",
    "tong_clean['ROMol'] = mols"
   ]
  },
  {
   "cell_type": "code",
   "execution_count": null,
   "metadata": {},
   "outputs": [],
   "source": [
    "# Discard entries with failed mol object retrieval\n",
    "\n",
    "tong_clean = tong_clean[tong_clean['ROMol'].notnull()]\n",
    "tong_clean.shape"
   ]
  },
  {
   "cell_type": "code",
   "execution_count": null,
   "metadata": {},
   "outputs": [],
   "source": [
    "# Save the frame into a SDF file\n",
    "\n",
    "pt.WriteSDF(tong_clean, 'tong_clean.sdf', properties=tong_clean.columns)"
   ]
  },
  {
   "cell_type": "markdown",
   "metadata": {},
   "source": [
    "## Let's build and evaluate models for each DILI endpoints."
   ]
  },
  {
   "cell_type": "code",
   "execution_count": 26,
   "metadata": {},
   "outputs": [],
   "source": []
  },
  {
   "cell_type": "code",
   "execution_count": null,
   "metadata": {},
   "outputs": [],
   "source": [
    "# Load file (If created previously)\n",
    "\n",
    "tong_clean = pt.LoadSDF('tong_clean.sdf')"
   ]
  },
  {
   "cell_type": "code",
   "execution_count": null,
   "metadata": {},
   "outputs": [],
   "source": [
    "tong_clean.head()"
   ]
  },
  {
   "cell_type": "code",
   "execution_count": null,
   "metadata": {},
   "outputs": [],
   "source": [
    "# Function to set parameters and build the model\n",
    "def build_model(end):\n",
    "    # Instantiate flame Build class\n",
    "    build = Build(end)\n",
    "    # Set model parameters\n",
    "    build.param.setVal('conformal', True)\n",
    "    build.param.setVal('verbose_error', False)\n",
    "    build.param.setVal('tune', True)\n",
    "    build.param.setVal('ModelValidationCV', 'loo')\n",
    "    build.param.setVal('ModelValidationN', 10)\n",
    "    build.param.setVal('computeMD_method', ['RDKit_md'])\n",
    "    build.param.setVal('quantitative', False)\n",
    "    build.param.setVal('modelAutoscaling', True)\n",
    "    build.param.setVal('model', 'RF')\n",
    "    build.param.setVal('imbalance', 'simple_subsampling')\n",
    "    build.param.setVal('SDFile_activity', end)\n",
    "    build.param.update_file(end,)\n",
    "    build.run(f'sdfs/{end}.sdf')"
   ]
  },
  {
   "cell_type": "code",
   "execution_count": null,
   "metadata": {},
   "outputs": [],
   "source": [
    "# Create endpoint separate files to create Flame models.\n",
    "endpoints = tong_clean.columns[8:]\n",
    "for end in endpoints:\n",
    "    print(end)\n",
    "    sdf = tong_clean[tong_clean[end].notnull()]\n",
    "    pt.WriteSDF(sdf, f'./sdfs/{end}.sdf', properties=sdf.columns)"
   ]
  },
  {
   "cell_type": "code",
   "execution_count": null,
   "metadata": {},
   "outputs": [],
   "source": [
    "# Build models for each endpoint and add reliable models\n",
    "# to a list (reliable are models with MCC>0.3)\n",
    "\n",
    "DILI_reliable = []  # List with good built DILI models\n",
    "for end in endpoints[:]:\n",
    "    # Create a new endpoint\n",
    "    action_new(end)\n",
    "    # action_remove(end, 1)  # Remove version, if rebuilding model\n",
    "    os.system('rm ./sdfs/data.pkl') # Remove data created for other model\n",
    "    build_model(end)\n",
    "    results = np.asarray(json.loads(action_results(end, 0)[1])['model_valid_info'], dtype=object)\n",
    "    # Get cross-validation MCC\n",
    "    mcc = np.where(results[:, 0] == 'MCC') #  Returns the 2D indexex to whre MCC is located\n",
    "    mcc = results[mcc[0]][0][2]  # Get the row where MCC is, and then get the actual value.\n",
    "    if mcc >= 0.3:  # keep only models with MCC higher than 0.3\n",
    "        DILI_reliable.append(end)\n",
    "        action_publish(end)  # Publish the model \n",
    "    else:\n",
    "        action_kill(end)\n"
   ]
  },
  {
   "cell_type": "code",
   "execution_count": null,
   "metadata": {},
   "outputs": [],
   "source": [
    " #  Get validation statistics from built models\n",
    "lista = []\n",
    "columns = ['Endpoint']\n",
    "for index, end in enumerate(DILI_reliable):\n",
    "\n",
    "    results = json.loads(action_results(end, 1)[1])['model_valid_info']\n",
    "    if index == 0:\n",
    "        for el in results:\n",
    "            columns.append(el[0])\n",
    "    values = [end]\n",
    "    for el in results:\n",
    "        values.append(el[-1])\n",
    "    print(columns)\n",
    "    print(values)\n",
    "    lista.append(values)\n",
    "frame = pd.DataFrame(lista, columns=columns)\n",
    "    \n",
    "    \n",
    "    "
   ]
  },
  {
   "cell_type": "code",
   "execution_count": null,
   "metadata": {},
   "outputs": [],
   "source": [
    "# Show models sorted by their MCC\n",
    "frame.sort_values(by=['MCC'], ascending=[False])"
   ]
  },
  {
   "cell_type": "code",
   "execution_count": null,
   "metadata": {},
   "outputs": [],
   "source": [
    "frame.to_csv(\"models_DILI_mechinistic.csv\")"
   ]
  },
  {
   "cell_type": "markdown",
   "metadata": {},
   "source": [
    "## Load validation set (LTKB)"
   ]
  },
  {
   "cell_type": "code",
   "execution_count": 7,
   "metadata": {},
   "outputs": [],
   "source": [
    "# Get prediction of a set of compounds for a given list of models. Endpoint and version column names\n",
    "# needed. Returns a dataframe with predictions for each endpoint as columns\n",
    "def get_predictions(models_frame, file, name_col, version_col):\n",
    "    model_predictions = pd.DataFrame()\n",
    "    for model, version in zip(models_frame[name_col], models_frame[version_col]):\n",
    "        pred =  Predict(model, version)\n",
    "        results = pred.run(file)\n",
    "        results = json.loads(results[1])\n",
    "        c0 = np.asarray(results['c0'])\n",
    "        c1 = np.asarray(results['c1'])\n",
    "        final = []\n",
    "        for val, val2 in zip(c0, c1):\n",
    "            if val and not val2:\n",
    "                final.append(0)\n",
    "            elif val2 and not val:\n",
    "                final.append(1)\n",
    "            else:\n",
    "                final.append(2)\n",
    "        model_predictions[model + '-' + str(version)] = final\n",
    "    return model_predictions"
   ]
  },
  {
   "cell_type": "code",
   "execution_count": 8,
   "metadata": {},
   "outputs": [],
   "source": [
    "# Get consensus prediction. Here the rules to class assignment. \n",
    "def get_consensus(frame):\n",
    "    consensus = []\n",
    "    for index, row in frame.iterrows():\n",
    "        val = 0\n",
    "        # Get number of positive, negative and out of AD\n",
    "        # predictions\n",
    "        counts = row.value_counts().to_dict()\n",
    "        if 1 in counts.keys():\n",
    "            val = 1\n",
    "            try:\n",
    "                if counts[0] > counts[1]:\n",
    "                    val = 0\n",
    "            except:\n",
    "                pass\n",
    "        else:\n",
    "            if 0 in counts.keys():\n",
    "                val = 0\n",
    "            else:\n",
    "                val = 2\n",
    "\n",
    "        consensus.append(val)\n",
    "    return consensus\n",
    "            "
   ]
  },
  {
   "cell_type": "code",
   "execution_count": 155,
   "metadata": {},
   "outputs": [],
   "source": [
    "# Read validation set used by Zhichao Liu et Al. (subset of LTKB dataset)\n",
    "ltkb = pd.read_excel('tong_data.xls', 1)"
   ]
  },
  {
   "cell_type": "code",
   "execution_count": 156,
   "metadata": {},
   "outputs": [
    {
     "data": {
      "text/html": [
       "<table border=\"1\" class=\"dataframe\">\n",
       "  <thead>\n",
       "    <tr style=\"text-align: right;\">\n",
       "      <th></th>\n",
       "      <th>DrugBank ID</th>\n",
       "      <th>Drug Name</th>\n",
       "      <th>DILI Label Sections</th>\n",
       "      <th>CAS No.</th>\n",
       "      <th>PubCID</th>\n",
       "      <th>DILI Endpoints</th>\n",
       "      <th>Distribution_Status</th>\n",
       "      <th>#models incriminating a drug as DILI positive in DILIps</th>\n",
       "      <th>DILI positive/negative as observed</th>\n",
       "    </tr>\n",
       "  </thead>\n",
       "  <tbody>\n",
       "    <tr>\n",
       "      <th>0</th>\n",
       "      <td>DB00437</td>\n",
       "      <td>allopurinol</td>\n",
       "      <td>Warnings and Precautions</td>\n",
       "      <td>315-30-0</td>\n",
       "      <td>2094</td>\n",
       "      <td>Less-DILI-concern</td>\n",
       "      <td>(Not used) training</td>\n",
       "      <td>0</td>\n",
       "      <td>ambiguous call</td>\n",
       "    </tr>\n",
       "    <tr>\n",
       "      <th>1</th>\n",
       "      <td>DB00915</td>\n",
       "      <td>amantadine</td>\n",
       "      <td>Warnings and Precautions</td>\n",
       "      <td>768-94-5</td>\n",
       "      <td>2130</td>\n",
       "      <td>Less-DILI-concern</td>\n",
       "      <td>(Not used) training</td>\n",
       "      <td>0</td>\n",
       "      <td>ambiguous call</td>\n",
       "    </tr>\n",
       "    <tr>\n",
       "      <th>2</th>\n",
       "      <td>DB01060</td>\n",
       "      <td>amoxicillin</td>\n",
       "      <td>Warnings and Precautions</td>\n",
       "      <td>26787-78-0</td>\n",
       "      <td>33613</td>\n",
       "      <td>Less-DILI-concern</td>\n",
       "      <td>(Not used) training</td>\n",
       "      <td>1</td>\n",
       "      <td>ambiguous call</td>\n",
       "    </tr>\n",
       "    <tr>\n",
       "      <th>3</th>\n",
       "      <td>DB00993</td>\n",
       "      <td>azathioprine</td>\n",
       "      <td>Warnings and Precautions</td>\n",
       "      <td>446-86-6</td>\n",
       "      <td>2265</td>\n",
       "      <td>Less-DILI-concern</td>\n",
       "      <td>(Not used) training</td>\n",
       "      <td>0</td>\n",
       "      <td>ambiguous call</td>\n",
       "    </tr>\n",
       "    <tr>\n",
       "      <th>4</th>\n",
       "      <td>DB00958</td>\n",
       "      <td>carboplatin</td>\n",
       "      <td>Warnings and Precautions</td>\n",
       "      <td>41575-94-4</td>\n",
       "      <td>498142</td>\n",
       "      <td>Less-DILI-concern</td>\n",
       "      <td>(Not used) training</td>\n",
       "      <td>0</td>\n",
       "      <td>ambiguous call</td>\n",
       "    </tr>\n",
       "  </tbody>\n",
       "</table>"
      ],
      "text/plain": [
       "  DrugBank ID     Drug Name       DILI Label Sections     CAS No.  PubCID     DILI Endpoints  Distribution_Status  #models incriminating a drug as DILI positive in DILIps DILI positive/negative as observed\n",
       "0     DB00437   allopurinol  Warnings and Precautions    315-30-0    2094  Less-DILI-concern  (Not used) training                                                        0                     ambiguous call\n",
       "1     DB00915    amantadine  Warnings and Precautions    768-94-5    2130  Less-DILI-concern  (Not used) training                                                        0                     ambiguous call\n",
       "2     DB01060   amoxicillin  Warnings and Precautions  26787-78-0   33613  Less-DILI-concern  (Not used) training                                                        1                     ambiguous call\n",
       "3     DB00993  azathioprine  Warnings and Precautions    446-86-6    2265  Less-DILI-concern  (Not used) training                                                        0                     ambiguous call\n",
       "4     DB00958   carboplatin  Warnings and Precautions  41575-94-4  498142  Less-DILI-concern  (Not used) training                                                        0                     ambiguous call"
      ]
     },
     "execution_count": 156,
     "metadata": {},
     "output_type": "execute_result"
    }
   ],
   "source": [
    "ltkb.head()"
   ]
  },
  {
   "cell_type": "code",
   "execution_count": 157,
   "metadata": {},
   "outputs": [
    {
     "data": {
      "text/plain": [
       "(286, 9)"
      ]
     },
     "execution_count": 157,
     "metadata": {},
     "output_type": "execute_result"
    }
   ],
   "source": [
    "ltkb.shape"
   ]
  },
  {
   "cell_type": "code",
   "execution_count": 181,
   "metadata": {},
   "outputs": [
    {
     "data": {
      "text/plain": [
       "(73, 9)"
      ]
     },
     "execution_count": 181,
     "metadata": {},
     "output_type": "execute_result"
    }
   ],
   "source": [
    "# Get validation entries from Tong and discard Less-DILI-concern entries\n",
    "\n",
    "ltkb_validation = ltkb[ltkb['Distribution_Status'].str.contains('validation')]\n",
    "ltkb_validation = ltkb_validation[ltkb_validation['DILI Endpoints'] != 'Less-DILI-concern']\n",
    "ltkb_validation.shape"
   ]
  },
  {
   "cell_type": "code",
   "execution_count": 182,
   "metadata": {},
   "outputs": [
    {
     "name": "stderr",
     "output_type": "stream",
     "text": [
      "100%|██████████| 73/73 [00:24<00:00,  4.06it/s]\n"
     ]
    },
    {
     "data": {
      "text/plain": [
       "(71, 10)"
      ]
     },
     "execution_count": 182,
     "metadata": {},
     "output_type": "execute_result"
    }
   ],
   "source": [
    "# Add InChIs to the dataframe and discard entries with no InChI\n",
    "ltkb_val = add_inchis(ltkb_validation, name='Drug Name', CASRN='CAS No.', DBID='DrugBank ID')\n",
    "ltkb_val = ltkb_val[ltkb_val['InChI'] != False]\n",
    "ltkb_val.shape"
   ]
  },
  {
   "cell_type": "code",
   "execution_count": 183,
   "metadata": {},
   "outputs": [],
   "source": [
    "# Get MOls from InChIs\n",
    "mols = []\n",
    "for inchi in ltkb_val['InChI']:\n",
    "    mols.append(AllChem.MolFromInchi(inchi))\n",
    "ltkb_val['ROMol'] = mols"
   ]
  },
  {
   "cell_type": "code",
   "execution_count": 184,
   "metadata": {},
   "outputs": [
    {
     "ename": "NameError",
     "evalue": "name 'tong' is not defined",
     "output_type": "error",
     "traceback": [
      "\u001b[0;31m---------------------------------------------------------------------------\u001b[0m",
      "\u001b[0;31mNameError\u001b[0m                                 Traceback (most recent call last)",
      "\u001b[0;32m<ipython-input-184-a8f978c8e774>\u001b[0m in \u001b[0;36m<module>\u001b[0;34m()\u001b[0m\n\u001b[1;32m      1\u001b[0m \u001b[0;31m# Check if there is training/test sets overlap\u001b[0m\u001b[0;34m\u001b[0m\u001b[0;34m\u001b[0m\u001b[0m\n\u001b[0;32m----> 2\u001b[0;31m \u001b[0mdrugbdb\u001b[0m \u001b[0;34m=\u001b[0m \u001b[0mtong\u001b[0m\u001b[0;34m[\u001b[0m\u001b[0;34m'PubCID'\u001b[0m\u001b[0;34m]\u001b[0m\u001b[0;34m.\u001b[0m\u001b[0mtolist\u001b[0m\u001b[0;34m(\u001b[0m\u001b[0;34m)\u001b[0m\u001b[0;34m\u001b[0m\u001b[0m\n\u001b[0m\u001b[1;32m      3\u001b[0m \u001b[0mltkb_validation\u001b[0m\u001b[0;34m[\u001b[0m\u001b[0mltkb_validation\u001b[0m\u001b[0;34m[\u001b[0m\u001b[0;34m'PubCID'\u001b[0m\u001b[0;34m]\u001b[0m\u001b[0;34m.\u001b[0m\u001b[0misin\u001b[0m\u001b[0;34m(\u001b[0m\u001b[0mdrugbdb\u001b[0m\u001b[0;34m)\u001b[0m\u001b[0;34m]\u001b[0m\u001b[0;34m\u001b[0m\u001b[0m\n",
      "\u001b[0;31mNameError\u001b[0m: name 'tong' is not defined"
     ]
    }
   ],
   "source": [
    "# Check if there is training/test sets overlap\n",
    "drugbdb = tong['PubCID'].tolist()\n",
    "ltkb_validation[ltkb_validation['PubCID'].isin(drugbdb)]"
   ]
  },
  {
   "cell_type": "code",
   "execution_count": 185,
   "metadata": {},
   "outputs": [],
   "source": [
    "# Save test set to a SDF file\n",
    "pt.WriteSDF(ltkb_val, 'ltkb_val.sdf', properties=ltkb_validation.columns)"
   ]
  },
  {
   "cell_type": "code",
   "execution_count": 197,
   "metadata": {},
   "outputs": [],
   "source": [
    "# Load test set to a dataframe\n",
    "ltkb_val = pt.LoadSDF('ltkb_val.sdf')"
   ]
  },
  {
   "cell_type": "code",
   "execution_count": 198,
   "metadata": {},
   "outputs": [
    {
     "data": {
      "text/plain": [
       "(71, 12)"
      ]
     },
     "execution_count": 198,
     "metadata": {},
     "output_type": "execute_result"
    }
   ],
   "source": [
    "ltkb_validation.head()\n",
    "ltkb_val.shape"
   ]
  },
  {
   "cell_type": "code",
   "execution_count": 199,
   "metadata": {},
   "outputs": [],
   "source": [
    "### Compute predictions"
   ]
  },
  {
   "cell_type": "code",
   "execution_count": 204,
   "metadata": {},
   "outputs": [
    {
     "data": {
      "text/html": [
       "<table border=\"1\" class=\"dataframe\">\n",
       "  <thead>\n",
       "    <tr style=\"text-align: right;\">\n",
       "      <th></th>\n",
       "      <th>Unnamed: 0</th>\n",
       "      <th>Endpoint</th>\n",
       "      <th>TP</th>\n",
       "      <th>TN</th>\n",
       "      <th>FP</th>\n",
       "      <th>FN</th>\n",
       "      <th>Sensitivity</th>\n",
       "      <th>Specificity</th>\n",
       "      <th>MCC</th>\n",
       "      <th>Conformal_coverage</th>\n",
       "      <th>Conformal_accuracy</th>\n",
       "    </tr>\n",
       "  </thead>\n",
       "  <tbody>\n",
       "    <tr>\n",
       "      <th>0</th>\n",
       "      <td>0</td>\n",
       "      <td>bilirubinemia</td>\n",
       "      <td>36</td>\n",
       "      <td>43</td>\n",
       "      <td>19</td>\n",
       "      <td>10</td>\n",
       "      <td>0.782609</td>\n",
       "      <td>0.693548</td>\n",
       "      <td>0.470984</td>\n",
       "      <td>0.613636</td>\n",
       "      <td>0.731481</td>\n",
       "    </tr>\n",
       "    <tr>\n",
       "      <th>1</th>\n",
       "      <td>1</td>\n",
       "      <td>cirrhosis</td>\n",
       "      <td>8</td>\n",
       "      <td>7</td>\n",
       "      <td>2</td>\n",
       "      <td>6</td>\n",
       "      <td>0.571429</td>\n",
       "      <td>0.777778</td>\n",
       "      <td>0.343792</td>\n",
       "      <td>0.425926</td>\n",
       "      <td>0.652174</td>\n",
       "    </tr>\n",
       "    <tr>\n",
       "      <th>2</th>\n",
       "      <td>2</td>\n",
       "      <td>hepatic failure</td>\n",
       "      <td>50</td>\n",
       "      <td>38</td>\n",
       "      <td>25</td>\n",
       "      <td>16</td>\n",
       "      <td>0.757576</td>\n",
       "      <td>0.603175</td>\n",
       "      <td>0.365529</td>\n",
       "      <td>0.488636</td>\n",
       "      <td>0.682171</td>\n",
       "    </tr>\n",
       "    <tr>\n",
       "      <th>3</th>\n",
       "      <td>3</td>\n",
       "      <td>hepatitis</td>\n",
       "      <td>114</td>\n",
       "      <td>101</td>\n",
       "      <td>47</td>\n",
       "      <td>42</td>\n",
       "      <td>0.730769</td>\n",
       "      <td>0.682432</td>\n",
       "      <td>0.413785</td>\n",
       "      <td>0.598425</td>\n",
       "      <td>0.707237</td>\n",
       "    </tr>\n",
       "    <tr>\n",
       "      <th>4</th>\n",
       "      <td>4</td>\n",
       "      <td>jaundice</td>\n",
       "      <td>134</td>\n",
       "      <td>104</td>\n",
       "      <td>54</td>\n",
       "      <td>48</td>\n",
       "      <td>0.736264</td>\n",
       "      <td>0.658228</td>\n",
       "      <td>0.395732</td>\n",
       "      <td>0.622711</td>\n",
       "      <td>0.700000</td>\n",
       "    </tr>\n",
       "  </tbody>\n",
       "</table>"
      ],
      "text/plain": [
       "   Unnamed: 0         Endpoint   TP   TN  FP  FN  Sensitivity  Specificity       MCC  Conformal_coverage  Conformal_accuracy\n",
       "0           0    bilirubinemia   36   43  19  10     0.782609     0.693548  0.470984            0.613636            0.731481\n",
       "1           1        cirrhosis    8    7   2   6     0.571429     0.777778  0.343792            0.425926            0.652174\n",
       "2           2  hepatic failure   50   38  25  16     0.757576     0.603175  0.365529            0.488636            0.682171\n",
       "3           3        hepatitis  114  101  47  42     0.730769     0.682432  0.413785            0.598425            0.707237\n",
       "4           4         jaundice  134  104  54  48     0.736264     0.658228  0.395732            0.622711            0.700000"
      ]
     },
     "execution_count": 204,
     "metadata": {},
     "output_type": "execute_result"
    }
   ],
   "source": [
    "# Read info on created models\n",
    "model_list = pd.read_csv('models_DILI_mechinistic.csv')\n",
    "model_list.head()"
   ]
  },
  {
   "cell_type": "code",
   "execution_count": 218,
   "metadata": {},
   "outputs": [],
   "source": [
    "# Add mdeo version to the FRAME\n",
    "model_list['version'] = 2"
   ]
  },
  {
   "cell_type": "code",
   "execution_count": 219,
   "metadata": {},
   "outputs": [
    {
     "name": "stderr",
     "output_type": "stream",
     "text": [
      "INFO - Running with input type: molecule\n",
      "WARNING - Unable to log syserror, this probably means flame is called from an ipython interactive terminal. Otherwise, please notify the developers\n",
      "INFO - Starting normalization...\n",
      "ERROR - Critical standardize exception: Multiple non-salt/solvate components when processing mol #27 mol0000000027. Skipping normalization\n",
      "ERROR - Critical standardize exception: Multiple non-salt/solvate components when processing mol #41 mol0000000041. Skipping normalization\n",
      "ERROR - Critical standardize exception: Multiple non-salt/solvate components when processing mol #43 mol0000000043. Skipping normalization\n",
      "ERROR - Critical standardize exception: Time taken shows problem with moleule when processing mol #67 mol0000000067. Skipping normalization\n",
      "INFO - Computing molecular descriptors with methods ['RDKit_md']...\n",
      "INFO - Computing RDKit descriptors...\n",
      "INFO - Running with input type: molecule\n",
      "WARNING - Unable to log syserror, this probably means flame is called from an ipython interactive terminal. Otherwise, please notify the developers\n",
      "INFO - Starting normalization...\n"
     ]
    },
    {
     "name": "stdout",
     "output_type": "stream",
     "text": [
      "       obj_num ( number of objects ) : 71.0\n"
     ]
    },
    {
     "name": "stderr",
     "output_type": "stream",
     "text": [
      "ERROR - Critical standardize exception: Multiple non-salt/solvate components when processing mol #27 mol0000000027. Skipping normalization\n",
      "ERROR - Critical standardize exception: Multiple non-salt/solvate components when processing mol #41 mol0000000041. Skipping normalization\n",
      "ERROR - Critical standardize exception: Multiple non-salt/solvate components when processing mol #43 mol0000000043. Skipping normalization\n",
      "ERROR - Critical standardize exception: Time taken shows problem with moleule when processing mol #67 mol0000000067. Skipping normalization\n",
      "INFO - Computing molecular descriptors with methods ['RDKit_md']...\n",
      "INFO - Computing RDKit descriptors...\n",
      "INFO - Running with input type: molecule\n"
     ]
    },
    {
     "name": "stdout",
     "output_type": "stream",
     "text": [
      "       obj_num ( number of objects ) : 71.0\n"
     ]
    },
    {
     "name": "stderr",
     "output_type": "stream",
     "text": [
      "WARNING - Unable to log syserror, this probably means flame is called from an ipython interactive terminal. Otherwise, please notify the developers\n",
      "INFO - Starting normalization...\n",
      "ERROR - Critical standardize exception: Multiple non-salt/solvate components when processing mol #27 mol0000000027. Skipping normalization\n",
      "ERROR - Critical standardize exception: Multiple non-salt/solvate components when processing mol #41 mol0000000041. Skipping normalization\n",
      "ERROR - Critical standardize exception: Multiple non-salt/solvate components when processing mol #43 mol0000000043. Skipping normalization\n",
      "ERROR - Critical standardize exception: Time taken shows problem with moleule when processing mol #67 mol0000000067. Skipping normalization\n",
      "INFO - Computing molecular descriptors with methods ['RDKit_md']...\n",
      "INFO - Computing RDKit descriptors...\n",
      "INFO - Running with input type: molecule\n",
      "WARNING - Unable to log syserror, this probably means flame is called from an ipython interactive terminal. Otherwise, please notify the developers\n",
      "INFO - Starting normalization...\n"
     ]
    },
    {
     "name": "stdout",
     "output_type": "stream",
     "text": [
      "       obj_num ( number of objects ) : 71.0\n"
     ]
    },
    {
     "name": "stderr",
     "output_type": "stream",
     "text": [
      "ERROR - Critical standardize exception: Multiple non-salt/solvate components when processing mol #27 mol0000000027. Skipping normalization\n",
      "ERROR - Critical standardize exception: Multiple non-salt/solvate components when processing mol #41 mol0000000041. Skipping normalization\n",
      "ERROR - Critical standardize exception: Multiple non-salt/solvate components when processing mol #43 mol0000000043. Skipping normalization\n",
      "ERROR - Critical standardize exception: Time taken shows problem with moleule when processing mol #67 mol0000000067. Skipping normalization\n",
      "INFO - Computing molecular descriptors with methods ['RDKit_md']...\n",
      "INFO - Computing RDKit descriptors...\n",
      "INFO - Running with input type: molecule\n",
      "WARNING - Unable to log syserror, this probably means flame is called from an ipython interactive terminal. Otherwise, please notify the developers\n",
      "INFO - Starting normalization...\n"
     ]
    },
    {
     "name": "stdout",
     "output_type": "stream",
     "text": [
      "       obj_num ( number of objects ) : 71.0\n"
     ]
    },
    {
     "name": "stderr",
     "output_type": "stream",
     "text": [
      "ERROR - Critical standardize exception: Multiple non-salt/solvate components when processing mol #27 mol0000000027. Skipping normalization\n",
      "ERROR - Critical standardize exception: Multiple non-salt/solvate components when processing mol #41 mol0000000041. Skipping normalization\n",
      "ERROR - Critical standardize exception: Multiple non-salt/solvate components when processing mol #43 mol0000000043. Skipping normalization\n",
      "ERROR - Critical standardize exception: Time taken shows problem with moleule when processing mol #67 mol0000000067. Skipping normalization\n",
      "INFO - Computing molecular descriptors with methods ['RDKit_md']...\n",
      "INFO - Computing RDKit descriptors...\n"
     ]
    },
    {
     "name": "stdout",
     "output_type": "stream",
     "text": [
      "       obj_num ( number of objects ) : 71.0\n"
     ]
    }
   ],
   "source": [
    "# Get prediction of a set of compounds for a given list of models. Endpoint and version column names\n",
    "# needed. Returns a dataframe with predictions for each endpoint as columns\n",
    "pred_ltkb = get_predictions(model_list, 'ltkb_val.sdf', 'Endpoint', 'version')"
   ]
  },
  {
   "cell_type": "code",
   "execution_count": 220,
   "metadata": {},
   "outputs": [
    {
     "data": {
      "text/html": [
       "<table border=\"1\" class=\"dataframe\">\n",
       "  <thead>\n",
       "    <tr style=\"text-align: right;\">\n",
       "      <th></th>\n",
       "      <th>bilirubinemia-2</th>\n",
       "      <th>cirrhosis-2</th>\n",
       "      <th>hepatic failure-2</th>\n",
       "      <th>hepatitis-2</th>\n",
       "      <th>jaundice-2</th>\n",
       "    </tr>\n",
       "  </thead>\n",
       "  <tbody>\n",
       "    <tr>\n",
       "      <th>0</th>\n",
       "      <td>1</td>\n",
       "      <td>2</td>\n",
       "      <td>1</td>\n",
       "      <td>2</td>\n",
       "      <td>1</td>\n",
       "    </tr>\n",
       "    <tr>\n",
       "      <th>1</th>\n",
       "      <td>0</td>\n",
       "      <td>1</td>\n",
       "      <td>2</td>\n",
       "      <td>2</td>\n",
       "      <td>2</td>\n",
       "    </tr>\n",
       "    <tr>\n",
       "      <th>2</th>\n",
       "      <td>1</td>\n",
       "      <td>2</td>\n",
       "      <td>0</td>\n",
       "      <td>2</td>\n",
       "      <td>2</td>\n",
       "    </tr>\n",
       "    <tr>\n",
       "      <th>3</th>\n",
       "      <td>0</td>\n",
       "      <td>2</td>\n",
       "      <td>1</td>\n",
       "      <td>2</td>\n",
       "      <td>2</td>\n",
       "    </tr>\n",
       "    <tr>\n",
       "      <th>4</th>\n",
       "      <td>2</td>\n",
       "      <td>1</td>\n",
       "      <td>1</td>\n",
       "      <td>1</td>\n",
       "      <td>1</td>\n",
       "    </tr>\n",
       "  </tbody>\n",
       "</table>"
      ],
      "text/plain": [
       "   bilirubinemia-2  cirrhosis-2  hepatic failure-2  hepatitis-2  jaundice-2\n",
       "0                1            2                  1            2           1\n",
       "1                0            1                  2            2           2\n",
       "2                1            2                  0            2           2\n",
       "3                0            2                  1            2           2\n",
       "4                2            1                  1            1           1"
      ]
     },
     "execution_count": 220,
     "metadata": {},
     "output_type": "execute_result"
    }
   ],
   "source": [
    "# Plot frame with different endpoint predictions\n",
    "pred_ltkb.head(5)"
   ]
  },
  {
   "cell_type": "code",
   "execution_count": 221,
   "metadata": {},
   "outputs": [
    {
     "data": {
      "text/plain": [
       "(71, 5)"
      ]
     },
     "execution_count": 221,
     "metadata": {},
     "output_type": "execute_result"
    }
   ],
   "source": [
    "pred_ltkb.shape"
   ]
  },
  {
   "cell_type": "code",
   "execution_count": 222,
   "metadata": {},
   "outputs": [],
   "source": [
    "ltkb_consensus = get_consensus(pred_ltkb)"
   ]
  },
  {
   "cell_type": "code",
   "execution_count": 344,
   "metadata": {},
   "outputs": [
    {
     "name": "stdout",
     "output_type": "stream",
     "text": [
      "Total number of predictions:  71\n",
      "Number of preditions in the applicability domain:  70\n"
     ]
    }
   ],
   "source": [
    "# Create a new dataframe with consensus predictions and experimental values\n",
    "ltkb_results = pd.DataFrame()\n",
    "ltkb_results['ltkb'] = ltkb_val['DILI positive/negative as observed'].astype(np.int)\n",
    "ltkb_results['pred'] = ltkb_consensus\n",
    "print('Total number of predictions: ', len(ltkb_results))\n",
    "# Discard compounds out of the AD\n",
    "ad_in = ltkb_results[ltkb_results['pred'] != 2]\n",
    "print('Number of preditions in the applicability domain: ', len(ad_in))"
   ]
  },
  {
   "cell_type": "code",
   "execution_count": 232,
   "metadata": {},
   "outputs": [
    {
     "name": "stdout",
     "output_type": "stream",
     "text": [
      "MCC:  0.4376940563413236\n",
      "MCC:  0.4376940563413236\n",
      "Sens:  0.734375\n",
      "Spec:  1.0\n"
     ]
    }
   ],
   "source": [
    "matthew = mcc(ad_in['pred'].tolist(), ad_in['ltkb'].tolist(), )\n",
    "TN, FP, FN, TP = cm(ad_in['pred'].tolist(), ad_in['ltkb'].tolist()).ravel()\n",
    "sensitivity = (TP / (TP + FP))\n",
    "specificity = (TN / (TN + FN))\n",
    "print('MCC: ', matthew)\n",
    "print('Sens: ', sensitivity)\n",
    "print('Spec: ', specificity)"
   ]
  },
  {
   "cell_type": "markdown",
   "metadata": {},
   "source": [
    "## Load validation set 2 (PfizerDataset)"
   ]
  },
  {
   "cell_type": "code",
   "execution_count": 233,
   "metadata": {},
   "outputs": [],
   "source": [
    "import pandas as pd\n",
    "from structure_resolver import * # homemade library to resolve structures from identifiers\n"
   ]
  },
  {
   "cell_type": "code",
   "execution_count": 234,
   "metadata": {},
   "outputs": [],
   "source": [
    "# Read validation set used by Zhichao Liu et Al. (pfizer dataset)\n",
    "pfizer = pd.read_excel('tong_data.xls', 2)"
   ]
  },
  {
   "cell_type": "code",
   "execution_count": 235,
   "metadata": {},
   "outputs": [
    {
     "data": {
      "text/html": [
       "<table border=\"1\" class=\"dataframe\">\n",
       "  <thead>\n",
       "    <tr style=\"text-align: right;\">\n",
       "      <th></th>\n",
       "      <th>Drugbank ID</th>\n",
       "      <th>Name</th>\n",
       "      <th>CAS No.</th>\n",
       "      <th>PubCID</th>\n",
       "      <th>Bin_Details</th>\n",
       "      <th>Distrubition_Status</th>\n",
       "      <th>#models incriminating a drug as DILI positive in DILIps</th>\n",
       "      <th>DILI positive/negative as observed</th>\n",
       "    </tr>\n",
       "  </thead>\n",
       "  <tbody>\n",
       "    <tr>\n",
       "      <th>0</th>\n",
       "      <td>DB00339</td>\n",
       "      <td>Pyrazinamide</td>\n",
       "      <td>98-96-4</td>\n",
       "      <td>1046</td>\n",
       "      <td>HH</td>\n",
       "      <td>Training</td>\n",
       "      <td>0</td>\n",
       "      <td>1</td>\n",
       "    </tr>\n",
       "    <tr>\n",
       "      <th>1</th>\n",
       "      <td>DB00908</td>\n",
       "      <td>quinidine</td>\n",
       "      <td>56-54-2</td>\n",
       "      <td>1065</td>\n",
       "      <td>HH</td>\n",
       "      <td>Training</td>\n",
       "      <td>3</td>\n",
       "      <td>1</td>\n",
       "    </tr>\n",
       "    <tr>\n",
       "      <th>2</th>\n",
       "      <td>DB00252</td>\n",
       "      <td>phenytoin</td>\n",
       "      <td>57-41-0</td>\n",
       "      <td>1775</td>\n",
       "      <td>HH</td>\n",
       "      <td>Training</td>\n",
       "      <td>1</td>\n",
       "      <td>1</td>\n",
       "    </tr>\n",
       "    <tr>\n",
       "      <th>3</th>\n",
       "      <td>DB00819</td>\n",
       "      <td>Acetazolamide</td>\n",
       "      <td>59-66-5</td>\n",
       "      <td>1986</td>\n",
       "      <td>HH</td>\n",
       "      <td>Training</td>\n",
       "      <td>2</td>\n",
       "      <td>1</td>\n",
       "    </tr>\n",
       "    <tr>\n",
       "      <th>4</th>\n",
       "      <td>DB00970</td>\n",
       "      <td>Dactinomycin</td>\n",
       "      <td>50-76-0</td>\n",
       "      <td>2019</td>\n",
       "      <td>HH</td>\n",
       "      <td>Training</td>\n",
       "      <td>1</td>\n",
       "      <td>1</td>\n",
       "    </tr>\n",
       "  </tbody>\n",
       "</table>"
      ],
      "text/plain": [
       "  Drugbank ID           Name  CAS No.  PubCID Bin_Details Distrubition_Status  #models incriminating a drug as DILI positive in DILIps  DILI positive/negative as observed\n",
       "0     DB00339   Pyrazinamide  98-96-4    1046          HH            Training                                                        0                                   1\n",
       "1     DB00908      quinidine  56-54-2    1065          HH            Training                                                        3                                   1\n",
       "2     DB00252      phenytoin  57-41-0    1775          HH            Training                                                        1                                   1\n",
       "3     DB00819  Acetazolamide  59-66-5    1986          HH            Training                                                        2                                   1\n",
       "4     DB00970   Dactinomycin  50-76-0    2019          HH            Training                                                        1                                   1"
      ]
     },
     "execution_count": 235,
     "metadata": {},
     "output_type": "execute_result"
    }
   ],
   "source": [
    "pfizer.head()"
   ]
  },
  {
   "cell_type": "code",
   "execution_count": 236,
   "metadata": {},
   "outputs": [
    {
     "data": {
      "text/plain": [
       "Index(['Drugbank ID', 'Name', 'CAS No.', 'PubCID', 'Bin_Details', 'Distrubition_Status', '#models incriminating a drug as DILI positive in DILIps', 'DILI positive/negative as observed'], dtype='object')"
      ]
     },
     "execution_count": 236,
     "metadata": {},
     "output_type": "execute_result"
    }
   ],
   "source": [
    "pfizer.columns"
   ]
  },
  {
   "cell_type": "code",
   "execution_count": 237,
   "metadata": {},
   "outputs": [
    {
     "name": "stdout",
     "output_type": "stream",
     "text": [
      "148\n"
     ]
    },
    {
     "data": {
      "text/plain": [
       "(148, 8)"
      ]
     },
     "execution_count": 237,
     "metadata": {},
     "output_type": "execute_result"
    }
   ],
   "source": [
    "# Get validation compounds\n",
    "pfizer = pfizer[pfizer['Distrubition_Status'].str.contains('Val')]\n",
    "print(len(pfizer))\n",
    "pfizer.shape"
   ]
  },
  {
   "cell_type": "code",
   "execution_count": 238,
   "metadata": {},
   "outputs": [
    {
     "name": "stderr",
     "output_type": "stream",
     "text": [
      "100%|██████████| 148/148 [00:34<00:00,  3.74it/s]\n"
     ]
    },
    {
     "data": {
      "text/plain": [
       "(148, 9)"
      ]
     },
     "execution_count": 238,
     "metadata": {},
     "output_type": "execute_result"
    }
   ],
   "source": [
    "# Add InChIs to the dataframe and discard entries with no InChI\n",
    "pfizer_inchis = add_inchis(pfizer, name='Name', CASRN='CAS No.', DBID='Drugbank ID')\n",
    "pfizer_inchis = pfizer_inchis[pfizer_inchis['InChI'] != False]\n",
    "pfizer_inchis.shape"
   ]
  },
  {
   "cell_type": "code",
   "execution_count": 58,
   "metadata": {},
   "outputs": [],
   "source": [
    "# Get MOls from InChIs\n",
    "mols = []\n",
    "for inchi in pfizer_inchis['InChI']:\n",
    "    mols.append(AllChem.MolFromInchi(inchi))\n",
    "pfizer_inchis['ROMol'] = mols"
   ]
  },
  {
   "cell_type": "code",
   "execution_count": 59,
   "metadata": {},
   "outputs": [],
   "source": [
    "# Save test set to a SDF file\n",
    "pt.WriteSDF(pfizer_inchis, 'pfizer_val.sdf', properties=pfizer_inchis.columns)"
   ]
  },
  {
   "cell_type": "code",
   "execution_count": 254,
   "metadata": {},
   "outputs": [],
   "source": [
    "# Load  test set to a frame\n",
    "\n",
    "pfizer_val = pt.LoadSDF('pfizer_val.sdf')"
   ]
  },
  {
   "cell_type": "code",
   "execution_count": 255,
   "metadata": {},
   "outputs": [
    {
     "data": {
      "text/html": [
       "<table border=\"1\" class=\"dataframe\">\n",
       "  <thead>\n",
       "    <tr style=\"text-align: right;\">\n",
       "      <th></th>\n",
       "      <th>Unnamed: 0</th>\n",
       "      <th>Endpoint</th>\n",
       "      <th>TP</th>\n",
       "      <th>TN</th>\n",
       "      <th>FP</th>\n",
       "      <th>FN</th>\n",
       "      <th>Sensitivity</th>\n",
       "      <th>Specificity</th>\n",
       "      <th>MCC</th>\n",
       "      <th>Conformal_coverage</th>\n",
       "      <th>Conformal_accuracy</th>\n",
       "      <th>version</th>\n",
       "    </tr>\n",
       "  </thead>\n",
       "  <tbody>\n",
       "    <tr>\n",
       "      <th>0</th>\n",
       "      <td>0</td>\n",
       "      <td>bilirubinemia</td>\n",
       "      <td>36</td>\n",
       "      <td>43</td>\n",
       "      <td>19</td>\n",
       "      <td>10</td>\n",
       "      <td>0.782609</td>\n",
       "      <td>0.693548</td>\n",
       "      <td>0.470984</td>\n",
       "      <td>0.613636</td>\n",
       "      <td>0.731481</td>\n",
       "      <td>2</td>\n",
       "    </tr>\n",
       "    <tr>\n",
       "      <th>1</th>\n",
       "      <td>1</td>\n",
       "      <td>cirrhosis</td>\n",
       "      <td>8</td>\n",
       "      <td>7</td>\n",
       "      <td>2</td>\n",
       "      <td>6</td>\n",
       "      <td>0.571429</td>\n",
       "      <td>0.777778</td>\n",
       "      <td>0.343792</td>\n",
       "      <td>0.425926</td>\n",
       "      <td>0.652174</td>\n",
       "      <td>2</td>\n",
       "    </tr>\n",
       "    <tr>\n",
       "      <th>2</th>\n",
       "      <td>2</td>\n",
       "      <td>hepatic failure</td>\n",
       "      <td>50</td>\n",
       "      <td>38</td>\n",
       "      <td>25</td>\n",
       "      <td>16</td>\n",
       "      <td>0.757576</td>\n",
       "      <td>0.603175</td>\n",
       "      <td>0.365529</td>\n",
       "      <td>0.488636</td>\n",
       "      <td>0.682171</td>\n",
       "      <td>2</td>\n",
       "    </tr>\n",
       "    <tr>\n",
       "      <th>3</th>\n",
       "      <td>3</td>\n",
       "      <td>hepatitis</td>\n",
       "      <td>114</td>\n",
       "      <td>101</td>\n",
       "      <td>47</td>\n",
       "      <td>42</td>\n",
       "      <td>0.730769</td>\n",
       "      <td>0.682432</td>\n",
       "      <td>0.413785</td>\n",
       "      <td>0.598425</td>\n",
       "      <td>0.707237</td>\n",
       "      <td>2</td>\n",
       "    </tr>\n",
       "    <tr>\n",
       "      <th>4</th>\n",
       "      <td>4</td>\n",
       "      <td>jaundice</td>\n",
       "      <td>134</td>\n",
       "      <td>104</td>\n",
       "      <td>54</td>\n",
       "      <td>48</td>\n",
       "      <td>0.736264</td>\n",
       "      <td>0.658228</td>\n",
       "      <td>0.395732</td>\n",
       "      <td>0.622711</td>\n",
       "      <td>0.700000</td>\n",
       "      <td>2</td>\n",
       "    </tr>\n",
       "  </tbody>\n",
       "</table>"
      ],
      "text/plain": [
       "   Unnamed: 0         Endpoint   TP   TN  FP  FN  Sensitivity  Specificity       MCC  Conformal_coverage  Conformal_accuracy  version\n",
       "0           0    bilirubinemia   36   43  19  10     0.782609     0.693548  0.470984            0.613636            0.731481        2\n",
       "1           1        cirrhosis    8    7   2   6     0.571429     0.777778  0.343792            0.425926            0.652174        2\n",
       "2           2  hepatic failure   50   38  25  16     0.757576     0.603175  0.365529            0.488636            0.682171        2\n",
       "3           3        hepatitis  114  101  47  42     0.730769     0.682432  0.413785            0.598425            0.707237        2\n",
       "4           4         jaundice  134  104  54  48     0.736264     0.658228  0.395732            0.622711            0.700000        2"
      ]
     },
     "execution_count": 255,
     "metadata": {},
     "output_type": "execute_result"
    }
   ],
   "source": [
    "# Read info on created models\n",
    "model_list = pd.read_csv('models_DILI_mechinistic.csv')\n",
    "model_list['version'] = 2\n",
    "model_list.head()"
   ]
  },
  {
   "cell_type": "code",
   "execution_count": 243,
   "metadata": {},
   "outputs": [
    {
     "name": "stderr",
     "output_type": "stream",
     "text": [
      "INFO - Running with input type: molecule\n",
      "WARNING - Unable to log syserror, this probably means flame is called from an ipython interactive terminal. Otherwise, please notify the developers\n",
      "INFO - Starting normalization...\n",
      "ERROR - Critical standardize exception: Multiple non-salt/solvate components when processing mol #55 mol0000000055. Skipping normalization\n",
      "ERROR - Critical standardize exception: Multiple non-salt/solvate components when processing mol #71 mol0000000071. Skipping normalization\n",
      "ERROR - Critical standardize exception: Multiple non-salt/solvate components when processing mol #76 mol0000000076. Skipping normalization\n",
      "ERROR - Critical standardize exception: Multiple non-salt/solvate components when processing mol #78 mol0000000078. Skipping normalization\n",
      "ERROR - Critical standardize exception: Multiple non-salt/solvate components when processing mol #116 mol0000000116. Skipping normalization\n",
      "ERROR - Critical standardize exception: Multiple non-salt/solvate components when processing mol #128 mol0000000128. Skipping normalization\n",
      "INFO - Computing molecular descriptors with methods ['RDKit_md']...\n",
      "INFO - Computing RDKit descriptors...\n",
      "INFO - Running with input type: molecule\n",
      "WARNING - Unable to log syserror, this probably means flame is called from an ipython interactive terminal. Otherwise, please notify the developers\n"
     ]
    },
    {
     "name": "stdout",
     "output_type": "stream",
     "text": [
      "       obj_num ( number of objects ) : 148.0\n"
     ]
    },
    {
     "name": "stderr",
     "output_type": "stream",
     "text": [
      "INFO - Starting normalization...\n",
      "ERROR - Critical standardize exception: Multiple non-salt/solvate components when processing mol #55 mol0000000055. Skipping normalization\n",
      "ERROR - Critical standardize exception: Multiple non-salt/solvate components when processing mol #71 mol0000000071. Skipping normalization\n",
      "ERROR - Critical standardize exception: Multiple non-salt/solvate components when processing mol #76 mol0000000076. Skipping normalization\n",
      "ERROR - Critical standardize exception: Multiple non-salt/solvate components when processing mol #78 mol0000000078. Skipping normalization\n",
      "ERROR - Critical standardize exception: Multiple non-salt/solvate components when processing mol #116 mol0000000116. Skipping normalization\n",
      "ERROR - Critical standardize exception: Multiple non-salt/solvate components when processing mol #128 mol0000000128. Skipping normalization\n",
      "INFO - Computing molecular descriptors with methods ['RDKit_md']...\n",
      "INFO - Computing RDKit descriptors...\n",
      "INFO - Running with input type: molecule\n",
      "WARNING - Unable to log syserror, this probably means flame is called from an ipython interactive terminal. Otherwise, please notify the developers\n"
     ]
    },
    {
     "name": "stdout",
     "output_type": "stream",
     "text": [
      "       obj_num ( number of objects ) : 148.0\n"
     ]
    },
    {
     "name": "stderr",
     "output_type": "stream",
     "text": [
      "INFO - Starting normalization...\n",
      "ERROR - Critical standardize exception: Multiple non-salt/solvate components when processing mol #55 mol0000000055. Skipping normalization\n",
      "ERROR - Critical standardize exception: Multiple non-salt/solvate components when processing mol #71 mol0000000071. Skipping normalization\n",
      "ERROR - Critical standardize exception: Multiple non-salt/solvate components when processing mol #76 mol0000000076. Skipping normalization\n",
      "ERROR - Critical standardize exception: Multiple non-salt/solvate components when processing mol #78 mol0000000078. Skipping normalization\n",
      "ERROR - Critical standardize exception: Multiple non-salt/solvate components when processing mol #116 mol0000000116. Skipping normalization\n",
      "ERROR - Critical standardize exception: Multiple non-salt/solvate components when processing mol #128 mol0000000128. Skipping normalization\n",
      "INFO - Computing molecular descriptors with methods ['RDKit_md']...\n",
      "INFO - Computing RDKit descriptors...\n",
      "INFO - Running with input type: molecule\n",
      "WARNING - Unable to log syserror, this probably means flame is called from an ipython interactive terminal. Otherwise, please notify the developers\n"
     ]
    },
    {
     "name": "stdout",
     "output_type": "stream",
     "text": [
      "       obj_num ( number of objects ) : 148.0\n"
     ]
    },
    {
     "name": "stderr",
     "output_type": "stream",
     "text": [
      "INFO - Starting normalization...\n",
      "ERROR - Critical standardize exception: Multiple non-salt/solvate components when processing mol #55 mol0000000055. Skipping normalization\n",
      "ERROR - Critical standardize exception: Multiple non-salt/solvate components when processing mol #71 mol0000000071. Skipping normalization\n",
      "ERROR - Critical standardize exception: Multiple non-salt/solvate components when processing mol #76 mol0000000076. Skipping normalization\n",
      "ERROR - Critical standardize exception: Multiple non-salt/solvate components when processing mol #78 mol0000000078. Skipping normalization\n",
      "ERROR - Critical standardize exception: Multiple non-salt/solvate components when processing mol #116 mol0000000116. Skipping normalization\n",
      "ERROR - Critical standardize exception: Multiple non-salt/solvate components when processing mol #128 mol0000000128. Skipping normalization\n",
      "INFO - Computing molecular descriptors with methods ['RDKit_md']...\n",
      "INFO - Computing RDKit descriptors...\n",
      "INFO - Running with input type: molecule\n",
      "WARNING - Unable to log syserror, this probably means flame is called from an ipython interactive terminal. Otherwise, please notify the developers\n"
     ]
    },
    {
     "name": "stdout",
     "output_type": "stream",
     "text": [
      "       obj_num ( number of objects ) : 148.0\n"
     ]
    },
    {
     "name": "stderr",
     "output_type": "stream",
     "text": [
      "INFO - Starting normalization...\n",
      "ERROR - Critical standardize exception: Multiple non-salt/solvate components when processing mol #55 mol0000000055. Skipping normalization\n",
      "ERROR - Critical standardize exception: Multiple non-salt/solvate components when processing mol #71 mol0000000071. Skipping normalization\n",
      "ERROR - Critical standardize exception: Multiple non-salt/solvate components when processing mol #76 mol0000000076. Skipping normalization\n",
      "ERROR - Critical standardize exception: Multiple non-salt/solvate components when processing mol #78 mol0000000078. Skipping normalization\n",
      "ERROR - Critical standardize exception: Multiple non-salt/solvate components when processing mol #116 mol0000000116. Skipping normalization\n",
      "ERROR - Critical standardize exception: Multiple non-salt/solvate components when processing mol #128 mol0000000128. Skipping normalization\n",
      "INFO - Computing molecular descriptors with methods ['RDKit_md']...\n",
      "INFO - Computing RDKit descriptors...\n"
     ]
    },
    {
     "name": "stdout",
     "output_type": "stream",
     "text": [
      "       obj_num ( number of objects ) : 148.0\n"
     ]
    }
   ],
   "source": [
    "# Get prediction of a set of compounds for a given list of models. Endpoint and version column names\n",
    "# needed. Returns a dataframe with predictions for each endpoint as columns\n",
    "pred_pfizer = get_predictions(model_list, 'pfizer_val.sdf', 'Endpoint', 'version')"
   ]
  },
  {
   "cell_type": "code",
   "execution_count": 256,
   "metadata": {},
   "outputs": [],
   "source": [
    "pfizer_consensus = get_consensus(pred_pfizer)"
   ]
  },
  {
   "cell_type": "code",
   "execution_count": 258,
   "metadata": {},
   "outputs": [
    {
     "data": {
      "text/plain": [
       "148"
      ]
     },
     "execution_count": 258,
     "metadata": {},
     "output_type": "execute_result"
    }
   ],
   "source": [
    "len(pfizer_consensus)"
   ]
  },
  {
   "cell_type": "code",
   "execution_count": null,
   "metadata": {},
   "outputs": [],
   "source": [
    "len(pfizer_consensus)"
   ]
  },
  {
   "cell_type": "code",
   "execution_count": 261,
   "metadata": {},
   "outputs": [
    {
     "name": "stdout",
     "output_type": "stream",
     "text": [
      "148\n",
      "138\n"
     ]
    }
   ],
   "source": [
    "# Create a new dataframe with consensus predictions and experimental values\n",
    "results_pfizer = pd.DataFrame()\n",
    "results_pfizer['pfizer'] = pfizer_val['DILI positive/negative as observed'].astype(np.int)\n",
    "results_pfizer['pred'] = pfizer_consensus\n",
    "print(len(results_pfizer))\n",
    "# Discard compounds out of the AD\n",
    "ad_in = results_pfizer[results_pfizer['pred'] != 2]\n",
    "print(len(ad_in))"
   ]
  },
  {
   "cell_type": "code",
   "execution_count": 262,
   "metadata": {},
   "outputs": [
    {
     "name": "stdout",
     "output_type": "stream",
     "text": [
      "MCC:  0.12265844699580944\n",
      "Sens:  0.5411764705882353\n",
      "Spec:  0.5849056603773585\n"
     ]
    }
   ],
   "source": [
    "matthew = mcc(ad_in['pred'].tolist(), ad_in['pfizer'].tolist(), )\n",
    "TN, FP, FN, TP = cm(ad_in['pred'].tolist(), ad_in['pfizer'].tolist()).ravel()\n",
    "sensitivity = (TP / (TP + FP))\n",
    "specificity = (TN / (TN + FN))\n",
    "print('MCC: ', matthew)\n",
    "print('Sens: ', sensitivity)\n",
    "print('Spec: ', specificity)"
   ]
  },
  {
   "cell_type": "markdown",
   "metadata": {},
   "source": [
    "## Load validation set 3 (Obrien)"
   ]
  },
  {
   "cell_type": "code",
   "execution_count": 263,
   "metadata": {},
   "outputs": [],
   "source": [
    "import pandas as pd\n",
    "from structure_resolver import * # homemade library to resolve structures from identifiers\n"
   ]
  },
  {
   "cell_type": "code",
   "execution_count": 264,
   "metadata": {},
   "outputs": [],
   "source": [
    "# Read validation set used by Zhichao Liu et Al. (pfizer dataset)\n",
    "obrien = pd.read_excel('tong_data.xls', 3)"
   ]
  },
  {
   "cell_type": "code",
   "execution_count": 265,
   "metadata": {},
   "outputs": [
    {
     "data": {
      "text/html": [
       "<table border=\"1\" class=\"dataframe\">\n",
       "  <thead>\n",
       "    <tr style=\"text-align: right;\">\n",
       "      <th></th>\n",
       "      <th>DrugbankID</th>\n",
       "      <th>Obrien's paper Name</th>\n",
       "      <th>Cas No.</th>\n",
       "      <th>PubCID</th>\n",
       "      <th>Distribution_Status</th>\n",
       "      <th>DILI Endpoints</th>\n",
       "      <th>#models incriminating a drug as DILI positive in DILIps</th>\n",
       "      <th>DILI positive/negative as observed</th>\n",
       "    </tr>\n",
       "  </thead>\n",
       "  <tbody>\n",
       "    <tr>\n",
       "      <th>0</th>\n",
       "      <td>Severelyhepatotoxicdrugs</td>\n",
       "      <td>NaN</td>\n",
       "      <td>NaN</td>\n",
       "      <td>NaN</td>\n",
       "      <td>NaN</td>\n",
       "      <td>NaN</td>\n",
       "      <td>NaN</td>\n",
       "      <td>NaN</td>\n",
       "    </tr>\n",
       "    <tr>\n",
       "      <th>1</th>\n",
       "      <td>DB00316</td>\n",
       "      <td>Acetaminophen</td>\n",
       "      <td>103-90-2</td>\n",
       "      <td>1983.0</td>\n",
       "      <td>Validation</td>\n",
       "      <td>Positive</td>\n",
       "      <td>0.0</td>\n",
       "      <td>1.0</td>\n",
       "    </tr>\n",
       "    <tr>\n",
       "      <th>2</th>\n",
       "      <td>DB00233</td>\n",
       "      <td>Aminosalycilate</td>\n",
       "      <td>65-49-6</td>\n",
       "      <td>4649.0</td>\n",
       "      <td>Validation</td>\n",
       "      <td>Positive</td>\n",
       "      <td>1.0</td>\n",
       "      <td>1.0</td>\n",
       "    </tr>\n",
       "    <tr>\n",
       "      <th>3</th>\n",
       "      <td>DB00321</td>\n",
       "      <td>Amitryptilline</td>\n",
       "      <td>50-48-6</td>\n",
       "      <td>2160.0</td>\n",
       "      <td>Training</td>\n",
       "      <td>Positive</td>\n",
       "      <td>2.0</td>\n",
       "      <td>1.0</td>\n",
       "    </tr>\n",
       "    <tr>\n",
       "      <th>4</th>\n",
       "      <td>DB01118</td>\n",
       "      <td>Amiodarone</td>\n",
       "      <td>1951-25-3</td>\n",
       "      <td>2157.0</td>\n",
       "      <td>Training</td>\n",
       "      <td>Positive</td>\n",
       "      <td>6.0</td>\n",
       "      <td>1.0</td>\n",
       "    </tr>\n",
       "  </tbody>\n",
       "</table>"
      ],
      "text/plain": [
       "                 DrugbankID Obrien's paper Name      Cas No.  PubCID Distribution_Status DILI Endpoints  #models incriminating a drug as DILI positive in DILIps  DILI positive/negative as observed\n",
       "0  Severelyhepatotoxicdrugs                 NaN          NaN     NaN                 NaN            NaN                                                      NaN                                 NaN\n",
       "1                   DB00316       Acetaminophen   103-90-2    1983.0          Validation       Positive                                                      0.0                                 1.0\n",
       "2                   DB00233     Aminosalycilate    65-49-6    4649.0          Validation       Positive                                                      1.0                                 1.0\n",
       "3                   DB00321      Amitryptilline    50-48-6    2160.0            Training       Positive                                                      2.0                                 1.0\n",
       "4                   DB01118          Amiodarone  1951-25-3    2157.0            Training       Positive                                                      6.0                                 1.0"
      ]
     },
     "execution_count": 265,
     "metadata": {},
     "output_type": "execute_result"
    }
   ],
   "source": [
    "obrien.head()"
   ]
  },
  {
   "cell_type": "code",
   "execution_count": 266,
   "metadata": {},
   "outputs": [
    {
     "name": "stdout",
     "output_type": "stream",
     "text": [
      "40\n"
     ]
    },
    {
     "data": {
      "text/plain": [
       "(40, 8)"
      ]
     },
     "execution_count": 266,
     "metadata": {},
     "output_type": "execute_result"
    }
   ],
   "source": [
    "# Get validation compounds\n",
    "obrien = obrien[obrien['Distribution_Status'] == 'Validation']\n",
    "print(len(obrien))\n",
    "obrien.shape"
   ]
  },
  {
   "cell_type": "code",
   "execution_count": 267,
   "metadata": {},
   "outputs": [
    {
     "name": "stderr",
     "output_type": "stream",
     "text": [
      "100%|██████████| 40/40 [00:11<00:00,  3.80it/s]\n"
     ]
    },
    {
     "data": {
      "text/plain": [
       "(40, 9)"
      ]
     },
     "execution_count": 267,
     "metadata": {},
     "output_type": "execute_result"
    }
   ],
   "source": [
    "# Add InChIs to the dataframe and discard entries with no InChI\n",
    "obrien_inchis = add_inchis(obrien, name=\"Obrien's paper Name\", CASRN='Cas No.', DBID='DrugbankID')\n",
    "obrien_inchis = obrien_inchis[obrien_inchis['InChI'] != False]\n",
    "obrien_inchis.shape"
   ]
  },
  {
   "cell_type": "code",
   "execution_count": 299,
   "metadata": {},
   "outputs": [],
   "source": [
    "# Get MOls from InChIs\n",
    "mols = []\n",
    "for inchi in obrien_inchis['InChI']:\n",
    "    mols.append(AllChem.MolFromInchi(inchi))\n",
    "obrien_inchis['ROMol'] = mols"
   ]
  },
  {
   "cell_type": "code",
   "execution_count": 300,
   "metadata": {},
   "outputs": [],
   "source": [
    "# Save test set to a SDF file\n",
    "pt.WriteSDF(obrien_inchis, 'obrien_val.sdf', properties=obrien_inchis.columns)"
   ]
  },
  {
   "cell_type": "code",
   "execution_count": 301,
   "metadata": {},
   "outputs": [],
   "source": [
    "# Load test set to a dataframe\n",
    "obrien_val = pt.LoadSDF('obrien_val.sdf')"
   ]
  },
  {
   "cell_type": "code",
   "execution_count": 302,
   "metadata": {},
   "outputs": [
    {
     "data": {
      "text/html": [
       "<table border=\"1\" class=\"dataframe\">\n",
       "  <thead>\n",
       "    <tr style=\"text-align: right;\">\n",
       "      <th></th>\n",
       "      <th>Unnamed: 0</th>\n",
       "      <th>Endpoint</th>\n",
       "      <th>TP</th>\n",
       "      <th>TN</th>\n",
       "      <th>FP</th>\n",
       "      <th>FN</th>\n",
       "      <th>Sensitivity</th>\n",
       "      <th>Specificity</th>\n",
       "      <th>MCC</th>\n",
       "      <th>Conformal_coverage</th>\n",
       "      <th>Conformal_accuracy</th>\n",
       "      <th>version</th>\n",
       "    </tr>\n",
       "  </thead>\n",
       "  <tbody>\n",
       "    <tr>\n",
       "      <th>0</th>\n",
       "      <td>0</td>\n",
       "      <td>bilirubinemia</td>\n",
       "      <td>36</td>\n",
       "      <td>43</td>\n",
       "      <td>19</td>\n",
       "      <td>10</td>\n",
       "      <td>0.782609</td>\n",
       "      <td>0.693548</td>\n",
       "      <td>0.470984</td>\n",
       "      <td>0.613636</td>\n",
       "      <td>0.731481</td>\n",
       "      <td>2</td>\n",
       "    </tr>\n",
       "    <tr>\n",
       "      <th>1</th>\n",
       "      <td>1</td>\n",
       "      <td>cirrhosis</td>\n",
       "      <td>8</td>\n",
       "      <td>7</td>\n",
       "      <td>2</td>\n",
       "      <td>6</td>\n",
       "      <td>0.571429</td>\n",
       "      <td>0.777778</td>\n",
       "      <td>0.343792</td>\n",
       "      <td>0.425926</td>\n",
       "      <td>0.652174</td>\n",
       "      <td>2</td>\n",
       "    </tr>\n",
       "    <tr>\n",
       "      <th>2</th>\n",
       "      <td>2</td>\n",
       "      <td>hepatic failure</td>\n",
       "      <td>50</td>\n",
       "      <td>38</td>\n",
       "      <td>25</td>\n",
       "      <td>16</td>\n",
       "      <td>0.757576</td>\n",
       "      <td>0.603175</td>\n",
       "      <td>0.365529</td>\n",
       "      <td>0.488636</td>\n",
       "      <td>0.682171</td>\n",
       "      <td>2</td>\n",
       "    </tr>\n",
       "    <tr>\n",
       "      <th>3</th>\n",
       "      <td>3</td>\n",
       "      <td>hepatitis</td>\n",
       "      <td>114</td>\n",
       "      <td>101</td>\n",
       "      <td>47</td>\n",
       "      <td>42</td>\n",
       "      <td>0.730769</td>\n",
       "      <td>0.682432</td>\n",
       "      <td>0.413785</td>\n",
       "      <td>0.598425</td>\n",
       "      <td>0.707237</td>\n",
       "      <td>2</td>\n",
       "    </tr>\n",
       "    <tr>\n",
       "      <th>4</th>\n",
       "      <td>4</td>\n",
       "      <td>jaundice</td>\n",
       "      <td>134</td>\n",
       "      <td>104</td>\n",
       "      <td>54</td>\n",
       "      <td>48</td>\n",
       "      <td>0.736264</td>\n",
       "      <td>0.658228</td>\n",
       "      <td>0.395732</td>\n",
       "      <td>0.622711</td>\n",
       "      <td>0.700000</td>\n",
       "      <td>2</td>\n",
       "    </tr>\n",
       "  </tbody>\n",
       "</table>"
      ],
      "text/plain": [
       "   Unnamed: 0         Endpoint   TP   TN  FP  FN  Sensitivity  Specificity       MCC  Conformal_coverage  Conformal_accuracy  version\n",
       "0           0    bilirubinemia   36   43  19  10     0.782609     0.693548  0.470984            0.613636            0.731481        2\n",
       "1           1        cirrhosis    8    7   2   6     0.571429     0.777778  0.343792            0.425926            0.652174        2\n",
       "2           2  hepatic failure   50   38  25  16     0.757576     0.603175  0.365529            0.488636            0.682171        2\n",
       "3           3        hepatitis  114  101  47  42     0.730769     0.682432  0.413785            0.598425            0.707237        2\n",
       "4           4         jaundice  134  104  54  48     0.736264     0.658228  0.395732            0.622711            0.700000        2"
      ]
     },
     "execution_count": 302,
     "metadata": {},
     "output_type": "execute_result"
    }
   ],
   "source": [
    "# Read info on created models\n",
    "model_list = pd.read_csv('models_DILI_mechinistic.csv')\n",
    "model_list['version'] = 2\n",
    "model_list.head()"
   ]
  },
  {
   "cell_type": "code",
   "execution_count": null,
   "metadata": {},
   "outputs": [],
   "source": [
    "# Get prediction of a set of compounds for a given list of models. Endpoint and version column names\n",
    "# needed. Returns a dataframe with predictions for each endpoint as columns\n",
    "pred_obrien = get_predictions(model_list, 'obrien_val.sdf', 'Endpoint', 'version')"
   ]
  },
  {
   "cell_type": "code",
   "execution_count": 309,
   "metadata": {},
   "outputs": [],
   "source": [
    "obrien_consensus = get_consensus(pred_obrien)"
   ]
  },
  {
   "cell_type": "code",
   "execution_count": 311,
   "metadata": {},
   "outputs": [
    {
     "name": "stdout",
     "output_type": "stream",
     "text": [
      "40\n",
      "37\n"
     ]
    }
   ],
   "source": [
    "# Create a new dataframe with consensus predictions and experimental values\n",
    "obrien_results = pd.DataFrame()\n",
    "obrien_results['obrien'] = pd.to_numeric(obrien_val['DILI positive/negative as observed'])\n",
    "obrien_results['pred'] = obrien_consensus\n",
    "print(len(obrien_results))\n",
    "# Discard compounds out of the AD\n",
    "ad_in = obrien_results[obrien_results['pred'] != 2]\n",
    "print(len(ad_in))"
   ]
  },
  {
   "cell_type": "code",
   "execution_count": 312,
   "metadata": {},
   "outputs": [
    {
     "name": "stdout",
     "output_type": "stream",
     "text": [
      "MCC:  0.28711521724254246\n",
      "Sens:  0.6521739130434783\n",
      "Spec:  0.6428571428571429\n"
     ]
    }
   ],
   "source": [
    "matthew = mcc(ad_in['pred'].tolist(), ad_in['obrien'].tolist(), )\n",
    "TN, FP, FN, TP = cm(ad_in['pred'].tolist(), ad_in['obrien'].tolist()).ravel()\n",
    "sensitivity = (TP / (TP + FP))\n",
    "specificity = (TN / (TN + FN))\n",
    "print('MCC: ', matthew)\n",
    "print('Sens: ', sensitivity)\n",
    "print('Spec: ', specificity)"
   ]
  },
  {
   "cell_type": "markdown",
   "metadata": {},
   "source": [
    "## Now lets analyze variable importance using PLS\n",
    "\n"
   ]
  },
  {
   "cell_type": "code",
   "execution_count": 18,
   "metadata": {},
   "outputs": [],
   "source": [
    "'''Loadings plot. Addapted from PCA plotting code snippet found in StackOverflow'''\n",
    "def create_loadings_plot(score, coeff, coeff_y, labels, color=None, source=None):\n",
    "    plt.figure(figsize=(12,10))\n",
    "    plt.xlim(-1,1)\n",
    "    plt.ylim(-1,1)\n",
    "    plt.xlabel(\"PC{}\".format(1))\n",
    "    plt.ylabel(\"PC{}\".format(2))\n",
    "    plt.grid()\n",
    "\n",
    "    #Call the function. Use only the 2 PCs.\n",
    "\n",
    "\n",
    "    xs = score[:,0]\n",
    "    ys = score[:,1]\n",
    "    n = coeff.shape[0]\n",
    "    scalex = 1.0/(xs.max() - xs.min())\n",
    "    scaley = 1.0/(ys.max() - ys.min())\n",
    "    fig = sns.scatterplot(xs * scalex,ys * scaley, hue=source )\n",
    "    fig = plt.scatter([coeff_y[0]], [coeff_y[1]], c='black', s=20)\n",
    "    plt.text(coeff_y[0] * 1.15, coeff_y[1] * 1.15, \"Y-loadings\",\n",
    "                     color='red', ha='center', va='center')\n",
    "\n",
    "    for i in range(n):\n",
    "        plt.arrow(0, 0, coeff[i,0], coeff[i,1],color = 'r',alpha = 0.5)\n",
    "        if labels is None:\n",
    "            plt.text(coeff[i,0]* 1.15, coeff[i,1] * 1.15, \"Var\"+str(i+1),\n",
    "                     color='g', ha='center', va='center')\n",
    "        else:\n",
    "            plt.text(coeff[i,0]* 1.15, coeff[i,1] * 1.15, labels[i],\n",
    "                     color='g', ha='center', va ='center')\n",
    "    return \n"
   ]
  },
  {
   "cell_type": "code",
   "execution_count": 361,
   "metadata": {},
   "outputs": [
    {
     "data": {
      "image/png": "[encoded data removed]",
      "text/plain": [
       "<Figure size 864x720 with 1 Axes>"
      ]
     },
     "metadata": {},
     "output_type": "display_data"
    }
   ],
   "source": [
    "# LTKB loadings plot\n",
    "X = pred_ltkb.values\n",
    "Y = ltkb_results['ltkb'].values\n",
    "pls = PLSRegression(n_components=2)\n",
    "projection = pls.fit_transform(X=X,y=Y)\n",
    "score = projection[0][:, 0:2]\n",
    "coeff = pls.x_loadings_\n",
    "labels = pred_ltkb.columns\n",
    "create_loadings_plot(score, coeff, labels)\n",
    "ltkb_pls_coef = pls.coef_"
   ]
  },
  {
   "cell_type": "code",
   "execution_count": 360,
   "metadata": {},
   "outputs": [
    {
     "data": {
      "text/plain": [
       "Index(['bilirubinemia-2', 'cirrhosis-2', 'hepatic failure-2', 'hepatitis-2', 'jaundice-2'], dtype='object')"
      ]
     },
     "execution_count": 360,
     "metadata": {},
     "output_type": "execute_result"
    }
   ],
   "source": [
    "labels"
   ]
  },
  {
   "cell_type": "code",
   "execution_count": 362,
   "metadata": {},
   "outputs": [
    {
     "data": {
      "image/png": "[encoded data removed]",
      "text/plain": [
       "<Figure size 864x720 with 1 Axes>"
      ]
     },
     "metadata": {},
     "output_type": "display_data"
    }
   ],
   "source": [
    "X = pred_pfizer.values\n",
    "Y = results_pfizer['pfizer'].values\n",
    "pls = PLSRegression(n_components=2)\n",
    "projection = pls.fit_transform(X=X,y=Y)\n",
    "score = projection[0][:, 0:2]\n",
    "coeff = pls.x_loadings_\n",
    "labels = pred_pfizer.columns\n",
    "create_loadings_plot(score, coeff, labels)\n",
    "pfizer_pls_coef = pls.coef_"
   ]
  },
  {
   "cell_type": "code",
   "execution_count": 364,
   "metadata": {},
   "outputs": [
    {
     "data": {
      "image/png": "[encoded data removed]",
      "text/plain": [
       "<Figure size 864x720 with 1 Axes>"
      ]
     },
     "metadata": {},
     "output_type": "display_data"
    }
   ],
   "source": [
    "X = pred_obrien.values\n",
    "Y = obrien_results['obrien'].values\n",
    "pls = PLSRegression(n_components=2)\n",
    "projection = pls.fit_transform(X=X,y=Y)\n",
    "score = projection[0][:, 0:2]\n",
    "coeff = pls.x_loadings_\n",
    "labels = pred_obrien.columns\n",
    "create_loadings_plot(score, coeff, labels)\n",
    "obrien_pls_coef = pls.coef_"
   ]
  },
  {
   "cell_type": "code",
   "execution_count": null,
   "metadata": {},
   "outputs": [],
   "source": []
  },
  {
   "cell_type": "code",
   "execution_count": 367,
   "metadata": {},
   "outputs": [
    {
     "data": {
      "text/plain": [
       "array([-0.01341421,  0.00355047,  0.04513737,  0.03130363,  0.10705115])"
      ]
     },
     "execution_count": 367,
     "metadata": {},
     "output_type": "execute_result"
    }
   ],
   "source": [
    "ltkb_pls_coef.T[0]"
   ]
  },
  {
   "cell_type": "code",
   "execution_count": 368,
   "metadata": {},
   "outputs": [
    {
     "data": {
      "text/plain": [
       "array([-0.01187175, -0.01631819, -0.0281083 ,  0.03265722,  0.09865909])"
      ]
     },
     "execution_count": 368,
     "metadata": {},
     "output_type": "execute_result"
    }
   ],
   "source": [
    "pfizer_pls_coef.T[0]"
   ]
  },
  {
   "cell_type": "markdown",
   "metadata": {},
   "source": [
    "## Discussion\n",
    "\n",
    "Available hepatotoxic data from SIDER extracted by Zhichao Liu et all was used in order to reproduce DILI prediction models.\n",
    "Distribution among side effects show 2 main properties. Data is unbalanced and different endpoints are not quite correlated.\n",
    "\n",
    "Model building shows that, in contrast with the resulst obtainded by Zhichao Liu, not very good performance at crossvalidation, with\n",
    "only 5 models with reasonable qualitity (when Zhichao Liu ones were almost perfect). In this case Kfold=5. Even trying to reproduce Zhichao Liu models\n",
    "using the same algorithm (Gaussian Naive Bayes) and descriptors (circular FCFP) results in very poor performance. \n",
    "However, external validation using the same data shows that models built here outperform Zhichao Liu ones.\n",
    "\n",
    "Also, variable importance analysis using PLS points out hepatic-failure and jaundice as the most informative varibles to classify a compound \n",
    "as hepatotoxic or not."
   ]
  },
  {
   "cell_type": "code",
   "execution_count": 370,
   "metadata": {},
   "outputs": [
    {
     "data": {
      "text/plain": [
       "array([[-0.0119578 , -0.07137941,  0.00801612,  0.03402429, -0.04894926]])"
      ]
     },
     "execution_count": 370,
     "metadata": {},
     "output_type": "execute_result"
    }
   ],
   "source": [
    "obrien_pls_coef.T"
   ]
  },
  {
   "cell_type": "code",
   "execution_count": 373,
   "metadata": {},
   "outputs": [],
   "source": [
    "coeffs = []\n",
    "coeffs.append(['ltkb'] + ltkb_pls_coef.T[0].tolist())\n",
    "coeffs.append(['pfizer'] + pfizer_pls_coef.T[0].tolist())\n",
    "coeffs.append(['obrien'] + obrien_pls_coef.T[0].tolist())"
   ]
  },
  {
   "cell_type": "code",
   "execution_count": 378,
   "metadata": {},
   "outputs": [],
   "source": [
    "frame_coeffs = pd.DataFrame(coeffs, columns=(['dataset'] + pred_ltkb.columns.tolist()))"
   ]
  },
  {
   "cell_type": "code",
   "execution_count": 377,
   "metadata": {},
   "outputs": [
    {
     "data": {
      "text/plain": [
       "Index(['bilirubinemia-2', 'cirrhosis-2', 'hepatic failure-2', 'hepatitis-2', 'jaundice-2'], dtype='object')"
      ]
     },
     "execution_count": 377,
     "metadata": {},
     "output_type": "execute_result"
    }
   ],
   "source": [
    "pred_ltkb.columns"
   ]
  },
  {
   "cell_type": "code",
   "execution_count": 379,
   "metadata": {},
   "outputs": [
    {
     "data": {
      "text/html": [
       "<table border=\"1\" class=\"dataframe\">\n",
       "  <thead>\n",
       "    <tr style=\"text-align: right;\">\n",
       "      <th></th>\n",
       "      <th>dataset</th>\n",
       "      <th>bilirubinemia-2</th>\n",
       "      <th>cirrhosis-2</th>\n",
       "      <th>hepatic failure-2</th>\n",
       "      <th>hepatitis-2</th>\n",
       "      <th>jaundice-2</th>\n",
       "    </tr>\n",
       "  </thead>\n",
       "  <tbody>\n",
       "    <tr>\n",
       "      <th>0</th>\n",
       "      <td>ltkb</td>\n",
       "      <td>-0.013414</td>\n",
       "      <td>0.003550</td>\n",
       "      <td>0.045137</td>\n",
       "      <td>0.031304</td>\n",
       "      <td>0.107051</td>\n",
       "    </tr>\n",
       "    <tr>\n",
       "      <th>1</th>\n",
       "      <td>pfizer</td>\n",
       "      <td>-0.011872</td>\n",
       "      <td>-0.016318</td>\n",
       "      <td>-0.028108</td>\n",
       "      <td>0.032657</td>\n",
       "      <td>0.098659</td>\n",
       "    </tr>\n",
       "    <tr>\n",
       "      <th>2</th>\n",
       "      <td>obrien</td>\n",
       "      <td>-0.011958</td>\n",
       "      <td>-0.071379</td>\n",
       "      <td>0.008016</td>\n",
       "      <td>0.034024</td>\n",
       "      <td>-0.048949</td>\n",
       "    </tr>\n",
       "  </tbody>\n",
       "</table>"
      ],
      "text/plain": [
       "  dataset  bilirubinemia-2  cirrhosis-2  hepatic failure-2  hepatitis-2  jaundice-2\n",
       "0    ltkb        -0.013414     0.003550           0.045137     0.031304    0.107051\n",
       "1  pfizer        -0.011872    -0.016318          -0.028108     0.032657    0.098659\n",
       "2  obrien        -0.011958    -0.071379           0.008016     0.034024   -0.048949"
      ]
     },
     "execution_count": 379,
     "metadata": {},
     "output_type": "execute_result"
    }
   ],
   "source": [
    "frame_coeffs"
   ]
  },
  {
   "cell_type": "markdown",
   "metadata": {},
   "source": [
    "## Relationship between number of incriminating models and severity"
   ]
  },
  {
   "cell_type": "code",
   "execution_count": 427,
   "metadata": {},
   "outputs": [],
   "source": [
    "# Read validation set used by Zhichao Liu et Al. (subset of LTKB dataset)\n",
    "val_all = pd.read_excel('validation_all.xls', 1)"
   ]
  },
  {
   "cell_type": "code",
   "execution_count": 428,
   "metadata": {},
   "outputs": [],
   "source": [
    "val_source = pd.read_excel('validation_all.xls', 0)"
   ]
  },
  {
   "cell_type": "code",
   "execution_count": 444,
   "metadata": {},
   "outputs": [],
   "source": [
    "val_source = val_source[['PubCID', 'Sources']].drop_duplicates(subset='PubCID')"
   ]
  },
  {
   "cell_type": "code",
   "execution_count": 445,
   "metadata": {},
   "outputs": [
    {
     "data": {
      "text/plain": [
       "(216, 2)"
      ]
     },
     "execution_count": 445,
     "metadata": {},
     "output_type": "execute_result"
    }
   ],
   "source": [
    "val_source.shape"
   ]
  },
  {
   "cell_type": "code",
   "execution_count": 383,
   "metadata": {},
   "outputs": [
    {
     "data": {
      "text/html": [
       "<table border=\"1\" class=\"dataframe\">\n",
       "  <thead>\n",
       "    <tr style=\"text-align: right;\">\n",
       "      <th></th>\n",
       "      <th>Commonality</th>\n",
       "      <th>DrugBank ID</th>\n",
       "      <th>Drug Name</th>\n",
       "      <th>PubCID</th>\n",
       "      <th>#models incriminating a drug as DILI positive in DILIps</th>\n",
       "      <th>DILI positive/negative as observed</th>\n",
       "      <th>DILI label section</th>\n",
       "    </tr>\n",
       "  </thead>\n",
       "  <tbody>\n",
       "    <tr>\n",
       "      <th>0</th>\n",
       "      <td>unique</td>\n",
       "      <td>DB01388</td>\n",
       "      <td>Mibefradil</td>\n",
       "      <td>60663</td>\n",
       "      <td>5</td>\n",
       "      <td>0</td>\n",
       "      <td>NaN</td>\n",
       "    </tr>\n",
       "    <tr>\n",
       "      <th>1</th>\n",
       "      <td>unique</td>\n",
       "      <td>NaN</td>\n",
       "      <td>alatrofloxacin</td>\n",
       "      <td>3086677</td>\n",
       "      <td>5</td>\n",
       "      <td>1</td>\n",
       "      <td>Withdrawn</td>\n",
       "    </tr>\n",
       "    <tr>\n",
       "      <th>2</th>\n",
       "      <td>unique</td>\n",
       "      <td>NaN</td>\n",
       "      <td>benzarone</td>\n",
       "      <td>255968</td>\n",
       "      <td>5</td>\n",
       "      <td>1</td>\n",
       "      <td>Withdrawn</td>\n",
       "    </tr>\n",
       "    <tr>\n",
       "      <th>3</th>\n",
       "      <td>unique</td>\n",
       "      <td>DB01283</td>\n",
       "      <td>lumiracoxib</td>\n",
       "      <td>151166</td>\n",
       "      <td>5</td>\n",
       "      <td>1</td>\n",
       "      <td>Withdrawn</td>\n",
       "    </tr>\n",
       "    <tr>\n",
       "      <th>4</th>\n",
       "      <td>unique</td>\n",
       "      <td>NaN</td>\n",
       "      <td>clometacin</td>\n",
       "      <td>33176</td>\n",
       "      <td>4</td>\n",
       "      <td>1</td>\n",
       "      <td>Withdrawn</td>\n",
       "    </tr>\n",
       "  </tbody>\n",
       "</table>"
      ],
      "text/plain": [
       "  Commonality DrugBank ID       Drug Name   PubCID  #models incriminating a drug as DILI positive in DILIps  DILI positive/negative as observed DILI label section\n",
       "0      unique     DB01388      Mibefradil    60663                                                        5                                   0                NaN\n",
       "1      unique         NaN  alatrofloxacin  3086677                                                        5                                   1          Withdrawn\n",
       "2      unique         NaN       benzarone   255968                                                        5                                   1          Withdrawn\n",
       "3      unique     DB01283     lumiracoxib   151166                                                        5                                   1          Withdrawn\n",
       "4      unique         NaN      clometacin    33176                                                        4                                   1          Withdrawn"
      ]
     },
     "execution_count": 383,
     "metadata": {},
     "output_type": "execute_result"
    }
   ],
   "source": [
    "val_all.head()"
   ]
  },
  {
   "cell_type": "code",
   "execution_count": 430,
   "metadata": {},
   "outputs": [
    {
     "data": {
      "text/plain": [
       "(208, 7)"
      ]
     },
     "execution_count": 430,
     "metadata": {},
     "output_type": "execute_result"
    }
   ],
   "source": [
    "val_all.shape"
   ]
  },
  {
   "cell_type": "code",
   "execution_count": 431,
   "metadata": {},
   "outputs": [
    {
     "name": "stderr",
     "output_type": "stream",
     "text": [
      "100%|██████████| 208/208 [00:57<00:00,  4.26it/s]\n"
     ]
    },
    {
     "data": {
      "text/plain": [
       "(186, 8)"
      ]
     },
     "execution_count": 431,
     "metadata": {},
     "output_type": "execute_result"
    }
   ],
   "source": [
    "# Add InChIs to the dataframe and discard entries with no InChI\n",
    "val_all_inchis = add_inchis(val_all, name=\"Drug Name\", CASRN=None, DBID='DrugBank ID')\n",
    "val_all_inchis = val_all_inchis[val_all_inchis['InChI'] != False]\n",
    "val_all_inchis.shape"
   ]
  },
  {
   "cell_type": "code",
   "execution_count": 436,
   "metadata": {},
   "outputs": [],
   "source": [
    "# Get MOls from InChIs\n",
    "mols = []\n",
    "for inchi in val_all_inchis['InChI']:\n",
    "    mols.append(AllChem.MolFromInchi(inchi))\n",
    "val_all_inchis['ROMol'] = mols"
   ]
  },
  {
   "cell_type": "code",
   "execution_count": 437,
   "metadata": {},
   "outputs": [
    {
     "data": {
      "text/plain": [
       "(186, 9)"
      ]
     },
     "execution_count": 437,
     "metadata": {},
     "output_type": "execute_result"
    }
   ],
   "source": [
    "val_all_inchis.shape"
   ]
  },
  {
   "cell_type": "code",
   "execution_count": 446,
   "metadata": {},
   "outputs": [],
   "source": [
    "val_all_merged = val_all_inchis.merge(val_source, how='left', on='PubCID').reset_index(drop=True)"
   ]
  },
  {
   "cell_type": "code",
   "execution_count": 447,
   "metadata": {},
   "outputs": [
    {
     "data": {
      "text/plain": [
       "(186, 10)"
      ]
     },
     "execution_count": 447,
     "metadata": {},
     "output_type": "execute_result"
    }
   ],
   "source": [
    "val_all_merged.shape"
   ]
  },
  {
   "cell_type": "code",
   "execution_count": 450,
   "metadata": {},
   "outputs": [],
   "source": [
    "# Save test set to a SDF file\n",
    "pt.WriteSDF(val_all_merged, 'val_all.sdf', properties=val_all_merged.columns)"
   ]
  },
  {
   "cell_type": "code",
   "execution_count": 4,
   "metadata": {},
   "outputs": [],
   "source": [
    "# Load test set to a dataframe\n",
    "val_all = pt.LoadSDF('val_all.sdf')"
   ]
  },
  {
   "cell_type": "code",
   "execution_count": 5,
   "metadata": {},
   "outputs": [
    {
     "data": {
      "text/html": [
       "<table border=\"1\" class=\"dataframe\">\n",
       "  <thead>\n",
       "    <tr style=\"text-align: right;\">\n",
       "      <th></th>\n",
       "      <th>Unnamed: 0</th>\n",
       "      <th>Endpoint</th>\n",
       "      <th>TP</th>\n",
       "      <th>TN</th>\n",
       "      <th>FP</th>\n",
       "      <th>FN</th>\n",
       "      <th>Sensitivity</th>\n",
       "      <th>Specificity</th>\n",
       "      <th>MCC</th>\n",
       "      <th>Conformal_coverage</th>\n",
       "      <th>Conformal_accuracy</th>\n",
       "      <th>version</th>\n",
       "    </tr>\n",
       "  </thead>\n",
       "  <tbody>\n",
       "    <tr>\n",
       "      <th>0</th>\n",
       "      <td>0</td>\n",
       "      <td>bilirubinemia</td>\n",
       "      <td>36</td>\n",
       "      <td>43</td>\n",
       "      <td>19</td>\n",
       "      <td>10</td>\n",
       "      <td>0.782609</td>\n",
       "      <td>0.693548</td>\n",
       "      <td>0.470984</td>\n",
       "      <td>0.613636</td>\n",
       "      <td>0.731481</td>\n",
       "      <td>2</td>\n",
       "    </tr>\n",
       "    <tr>\n",
       "      <th>1</th>\n",
       "      <td>1</td>\n",
       "      <td>cirrhosis</td>\n",
       "      <td>8</td>\n",
       "      <td>7</td>\n",
       "      <td>2</td>\n",
       "      <td>6</td>\n",
       "      <td>0.571429</td>\n",
       "      <td>0.777778</td>\n",
       "      <td>0.343792</td>\n",
       "      <td>0.425926</td>\n",
       "      <td>0.652174</td>\n",
       "      <td>2</td>\n",
       "    </tr>\n",
       "    <tr>\n",
       "      <th>2</th>\n",
       "      <td>2</td>\n",
       "      <td>hepatic failure</td>\n",
       "      <td>50</td>\n",
       "      <td>38</td>\n",
       "      <td>25</td>\n",
       "      <td>16</td>\n",
       "      <td>0.757576</td>\n",
       "      <td>0.603175</td>\n",
       "      <td>0.365529</td>\n",
       "      <td>0.488636</td>\n",
       "      <td>0.682171</td>\n",
       "      <td>2</td>\n",
       "    </tr>\n",
       "    <tr>\n",
       "      <th>3</th>\n",
       "      <td>3</td>\n",
       "      <td>hepatitis</td>\n",
       "      <td>114</td>\n",
       "      <td>101</td>\n",
       "      <td>47</td>\n",
       "      <td>42</td>\n",
       "      <td>0.730769</td>\n",
       "      <td>0.682432</td>\n",
       "      <td>0.413785</td>\n",
       "      <td>0.598425</td>\n",
       "      <td>0.707237</td>\n",
       "      <td>2</td>\n",
       "    </tr>\n",
       "    <tr>\n",
       "      <th>4</th>\n",
       "      <td>4</td>\n",
       "      <td>jaundice</td>\n",
       "      <td>134</td>\n",
       "      <td>104</td>\n",
       "      <td>54</td>\n",
       "      <td>48</td>\n",
       "      <td>0.736264</td>\n",
       "      <td>0.658228</td>\n",
       "      <td>0.395732</td>\n",
       "      <td>0.622711</td>\n",
       "      <td>0.700000</td>\n",
       "      <td>2</td>\n",
       "    </tr>\n",
       "  </tbody>\n",
       "</table>"
      ],
      "text/plain": [
       "   Unnamed: 0         Endpoint   TP   TN  FP  FN  Sensitivity  Specificity       MCC  Conformal_coverage  Conformal_accuracy  version\n",
       "0           0    bilirubinemia   36   43  19  10     0.782609     0.693548  0.470984            0.613636            0.731481        2\n",
       "1           1        cirrhosis    8    7   2   6     0.571429     0.777778  0.343792            0.425926            0.652174        2\n",
       "2           2  hepatic failure   50   38  25  16     0.757576     0.603175  0.365529            0.488636            0.682171        2\n",
       "3           3        hepatitis  114  101  47  42     0.730769     0.682432  0.413785            0.598425            0.707237        2\n",
       "4           4         jaundice  134  104  54  48     0.736264     0.658228  0.395732            0.622711            0.700000        2"
      ]
     },
     "execution_count": 5,
     "metadata": {},
     "output_type": "execute_result"
    }
   ],
   "source": [
    "# Read info on created models\n",
    "model_list = pd.read_csv('models_DILI_mechinistic.csv')\n",
    "model_list['version'] = 2\n",
    "model_list.head()"
   ]
  },
  {
   "cell_type": "code",
   "execution_count": 11,
   "metadata": {},
   "outputs": [
    {
     "name": "stderr",
     "output_type": "stream",
     "text": [
      "INFO - Running with input type: molecule\n",
      "WARNING - Unable to log syserror, this probably means flame is called from an ipython interactive terminal. Otherwise, please notify the developers\n",
      "INFO - Starting normalization...\n",
      "ERROR - Critical standardize exception: Time taken shows problem with moleule when processing mol #47 mol0000000047. Skipping normalization\n",
      "ERROR - Critical standardize exception: Multiple non-salt/solvate components when processing mol #88 mol0000000088. Skipping normalization\n",
      "ERROR - Critical standardize exception: Multiple non-salt/solvate components when processing mol #119 mol0000000119. Skipping normalization\n",
      "INFO - Computing molecular descriptors with methods ['RDKit_md']...\n",
      "INFO - Computing RDKit descriptors...\n",
      "INFO - Running with input type: molecule\n",
      "WARNING - Unable to log syserror, this probably means flame is called from an ipython interactive terminal. Otherwise, please notify the developers\n"
     ]
    },
    {
     "name": "stdout",
     "output_type": "stream",
     "text": [
      "       obj_num ( number of objects ) : 186.0\n"
     ]
    },
    {
     "name": "stderr",
     "output_type": "stream",
     "text": [
      "INFO - Starting normalization...\n",
      "ERROR - Critical standardize exception: Time taken shows problem with moleule when processing mol #47 mol0000000047. Skipping normalization\n",
      "ERROR - Critical standardize exception: Multiple non-salt/solvate components when processing mol #88 mol0000000088. Skipping normalization\n",
      "ERROR - Critical standardize exception: Multiple non-salt/solvate components when processing mol #119 mol0000000119. Skipping normalization\n",
      "INFO - Computing molecular descriptors with methods ['RDKit_md']...\n",
      "INFO - Computing RDKit descriptors...\n",
      "INFO - Running with input type: molecule\n",
      "WARNING - Unable to log syserror, this probably means flame is called from an ipython interactive terminal. Otherwise, please notify the developers\n"
     ]
    },
    {
     "name": "stdout",
     "output_type": "stream",
     "text": [
      "       obj_num ( number of objects ) : 186.0\n"
     ]
    },
    {
     "name": "stderr",
     "output_type": "stream",
     "text": [
      "INFO - Starting normalization...\n",
      "ERROR - Critical standardize exception: Time taken shows problem with moleule when processing mol #47 mol0000000047. Skipping normalization\n",
      "ERROR - Critical standardize exception: Multiple non-salt/solvate components when processing mol #88 mol0000000088. Skipping normalization\n",
      "ERROR - Critical standardize exception: Multiple non-salt/solvate components when processing mol #119 mol0000000119. Skipping normalization\n",
      "INFO - Computing molecular descriptors with methods ['RDKit_md']...\n",
      "INFO - Computing RDKit descriptors...\n",
      "INFO - Running with input type: molecule\n",
      "WARNING - Unable to log syserror, this probably means flame is called from an ipython interactive terminal. Otherwise, please notify the developers\n"
     ]
    },
    {
     "name": "stdout",
     "output_type": "stream",
     "text": [
      "       obj_num ( number of objects ) : 186.0\n"
     ]
    },
    {
     "name": "stderr",
     "output_type": "stream",
     "text": [
      "INFO - Starting normalization...\n",
      "ERROR - Critical standardize exception: Time taken shows problem with moleule when processing mol #47 mol0000000047. Skipping normalization\n",
      "ERROR - Critical standardize exception: Multiple non-salt/solvate components when processing mol #88 mol0000000088. Skipping normalization\n",
      "ERROR - Critical standardize exception: Multiple non-salt/solvate components when processing mol #119 mol0000000119. Skipping normalization\n",
      "INFO - Computing molecular descriptors with methods ['RDKit_md']...\n",
      "INFO - Computing RDKit descriptors...\n",
      "INFO - Running with input type: molecule\n",
      "WARNING - Unable to log syserror, this probably means flame is called from an ipython interactive terminal. Otherwise, please notify the developers\n"
     ]
    },
    {
     "name": "stdout",
     "output_type": "stream",
     "text": [
      "       obj_num ( number of objects ) : 186.0\n"
     ]
    },
    {
     "name": "stderr",
     "output_type": "stream",
     "text": [
      "INFO - Starting normalization...\n",
      "ERROR - Critical standardize exception: Time taken shows problem with moleule when processing mol #47 mol0000000047. Skipping normalization\n",
      "ERROR - Critical standardize exception: Multiple non-salt/solvate components when processing mol #88 mol0000000088. Skipping normalization\n",
      "ERROR - Critical standardize exception: Multiple non-salt/solvate components when processing mol #119 mol0000000119. Skipping normalization\n",
      "INFO - Computing molecular descriptors with methods ['RDKit_md']...\n",
      "INFO - Computing RDKit descriptors...\n"
     ]
    },
    {
     "name": "stdout",
     "output_type": "stream",
     "text": [
      "       obj_num ( number of objects ) : 186.0\n"
     ]
    }
   ],
   "source": [
    "pred_all = get_predictions(model_list, 'val_all.sdf', 'Endpoint', 'version')\n",
    "consensus_all = get_consensus(pred_all)"
   ]
  },
  {
   "cell_type": "code",
   "execution_count": null,
   "metadata": {},
   "outputs": [],
   "source": []
  },
  {
   "cell_type": "code",
   "execution_count": 12,
   "metadata": {},
   "outputs": [
    {
     "name": "stdout",
     "output_type": "stream",
     "text": [
      "186\n",
      "176\n"
     ]
    }
   ],
   "source": [
    "# Create a new dataframe with consensus predictions and experimental values\n",
    "all_results = pd.DataFrame()\n",
    "all_results['all'] = pd.to_numeric(val_all['DILI positive/negative as observed'])\n",
    "all_results['pred'] = consensus_all\n",
    "print(len(all_results))\n",
    "# Discard compounds out of the AD\n",
    "ad_in = all_results[all_results['pred'] != 2]\n",
    "print(len(ad_in))"
   ]
  },
  {
   "cell_type": "code",
   "execution_count": 13,
   "metadata": {},
   "outputs": [
    {
     "name": "stdout",
     "output_type": "stream",
     "text": [
      "MCC:  0.17668494017065453\n",
      "Sens:  0.5983606557377049\n",
      "Spec:  0.5925925925925926\n"
     ]
    }
   ],
   "source": [
    "matthew = mcc(ad_in['pred'].tolist(), ad_in['all'].tolist(), )\n",
    "TN, FP, FN, TP = cm(ad_in['pred'].tolist(), ad_in['all'].tolist()).ravel()\n",
    "sensitivity = (TP / (TP + FP))\n",
    "specificity = (TN / (TN + FN))\n",
    "print('MCC: ', matthew)\n",
    "print('Sens: ', sensitivity)\n",
    "print('Spec: ', specificity)"
   ]
  },
  {
   "cell_type": "code",
   "execution_count": 21,
   "metadata": {},
   "outputs": [
    {
     "name": "stdout",
     "output_type": "stream",
     "text": [
      "Index(['bilirubinemia-2', 'cirrhosis-2', 'hepatic failure-2', 'hepatitis-2', 'jaundice-2'], dtype='object')\n"
     ]
    },
    {
     "data": {
      "image/png": "[encoded data removed]",
      "text/plain": [
       "<Figure size 864x720 with 1 Axes>"
      ]
     },
     "metadata": {},
     "output_type": "display_data"
    }
   ],
   "source": [
    "X = pred_all.values\n",
    "Y = all_results['all'].values\n",
    "pls = PLSRegression(n_components=2)\n",
    "projection = pls.fit_transform(X=X,y=Y)\n",
    "score = projection[0][:, 0:2]\n",
    "coeff = pls.x_loadings_\n",
    "coeff_y = pls.y_loadings_[0]\n",
    "print(pred_all.columns)\n",
    "labels = pred_all.columns\n",
    "source = val_all['Sources']\n",
    "create_loadings_plot(score, coeff, coeff_y, labels, color=Y, source=source)\n",
    "all_pls_coef = pls.coef_"
   ]
  },
  {
   "cell_type": "code",
   "execution_count": 521,
   "metadata": {},
   "outputs": [
    {
     "data": {
      "text/plain": [
       "array([[-0.00384815],\n",
       "       [-0.00921687],\n",
       "       [ 0.0173578 ],\n",
       "       [-0.00868623],\n",
       "       [ 0.13295347]])"
      ]
     },
     "execution_count": 521,
     "metadata": {},
     "output_type": "execute_result"
    }
   ],
   "source": [
    "pls.coef_"
   ]
  },
  {
   "cell_type": "code",
   "execution_count": 522,
   "metadata": {},
   "outputs": [
    {
     "data": {
      "text/plain": [
       "array([[ 0.19054695,  0.44159223],\n",
       "       [-0.16379076, -0.28330068],\n",
       "       [ 0.44654853,  0.42364732],\n",
       "       [ 0.35661601,  0.67600546],\n",
       "       [ 0.82787024, -0.34641014]])"
      ]
     },
     "execution_count": 522,
     "metadata": {},
     "output_type": "execute_result"
    }
   ],
   "source": [
    "pls.x_loadings_"
   ]
  },
  {
   "cell_type": "code",
   "execution_count": 23,
   "metadata": {},
   "outputs": [],
   "source": [
    "pred_label = pred_all.copy()"
   ]
  },
  {
   "cell_type": "code",
   "execution_count": 24,
   "metadata": {},
   "outputs": [],
   "source": [
    "pred_label['label_section'] = val_all['DILI label section']"
   ]
  },
  {
   "cell_type": "code",
   "execution_count": 25,
   "metadata": {},
   "outputs": [
    {
     "data": {
      "text/html": [
       "<table border=\"1\" class=\"dataframe\">\n",
       "  <thead>\n",
       "    <tr style=\"text-align: right;\">\n",
       "      <th></th>\n",
       "      <th>bilirubinemia-2</th>\n",
       "      <th>cirrhosis-2</th>\n",
       "      <th>hepatic failure-2</th>\n",
       "      <th>hepatitis-2</th>\n",
       "      <th>jaundice-2</th>\n",
       "      <th>label_section</th>\n",
       "    </tr>\n",
       "  </thead>\n",
       "  <tbody>\n",
       "    <tr>\n",
       "      <th>0</th>\n",
       "      <td>1</td>\n",
       "      <td>1</td>\n",
       "      <td>2</td>\n",
       "      <td>2</td>\n",
       "      <td>2</td>\n",
       "      <td>nan</td>\n",
       "    </tr>\n",
       "  </tbody>\n",
       "</table>"
      ],
      "text/plain": [
       "   bilirubinemia-2  cirrhosis-2  hepatic failure-2  hepatitis-2  jaundice-2 label_section\n",
       "0                1            1                  2            2           2           nan"
      ]
     },
     "execution_count": 25,
     "metadata": {},
     "output_type": "execute_result"
    }
   ],
   "source": [
    "pred_label.head(1)"
   ]
  },
  {
   "cell_type": "code",
   "execution_count": 538,
   "metadata": {},
   "outputs": [
    {
     "data": {
      "text/plain": [
       "2    82\n",
       "0    65\n",
       "1    39\n",
       "Name: bilirubinemia-2, dtype: int64"
      ]
     },
     "execution_count": 538,
     "metadata": {},
     "output_type": "execute_result"
    }
   ],
   "source": [
    "pred_label['bilirubinemia-2'].value_counts()"
   ]
  },
  {
   "cell_type": "code",
   "execution_count": 539,
   "metadata": {},
   "outputs": [
    {
     "data": {
      "text/plain": [
       "2    83\n",
       "1    59\n",
       "0    44\n",
       "Name: jaundice-2, dtype: int64"
      ]
     },
     "execution_count": 539,
     "metadata": {},
     "output_type": "execute_result"
    }
   ],
   "source": [
    "pred_label['jaundice-2'].value_counts()"
   ]
  },
  {
   "cell_type": "code",
   "execution_count": 540,
   "metadata": {},
   "outputs": [
    {
     "data": {
      "text/plain": [
       "2    109\n",
       "1     48\n",
       "0     29\n",
       "Name: cirrhosis-2, dtype: int64"
      ]
     },
     "execution_count": 540,
     "metadata": {},
     "output_type": "execute_result"
    }
   ],
   "source": [
    "pred_label['cirrhosis-2'].value_counts()"
   ]
  },
  {
   "cell_type": "code",
   "execution_count": 541,
   "metadata": {},
   "outputs": [
    {
     "data": {
      "text/plain": [
       "2    79\n",
       "0    59\n",
       "1    48\n",
       "Name: hepatic failure-2, dtype: int64"
      ]
     },
     "execution_count": 541,
     "metadata": {},
     "output_type": "execute_result"
    }
   ],
   "source": [
    "pred_label['hepatic failure-2'].value_counts()"
   ]
  },
  {
   "cell_type": "code",
   "execution_count": 542,
   "metadata": {},
   "outputs": [
    {
     "data": {
      "text/plain": [
       "2    92\n",
       "1    53\n",
       "0    41\n",
       "Name: hepatitis-2, dtype: int64"
      ]
     },
     "execution_count": 542,
     "metadata": {},
     "output_type": "execute_result"
    }
   ],
   "source": [
    "pred_label['hepatitis-2'].value_counts()"
   ]
  },
  {
   "cell_type": "code",
   "execution_count": 33,
   "metadata": {},
   "outputs": [],
   "source": [
    "suma = []\n",
    "for index, row in pred_label[pred_label.columns[:-1]].iterrows():\n",
    "    try:\n",
    "        entry = row.value_counts()[1]\n",
    "        suma.append(entry)\n",
    "    except:\n",
    "        suma.append(0)\n"
   ]
  },
  {
   "cell_type": "code",
   "execution_count": 35,
   "metadata": {},
   "outputs": [
    {
     "data": {
      "text/html": [
       "<table border=\"1\" class=\"dataframe\">\n",
       "  <thead>\n",
       "    <tr style=\"text-align: right;\">\n",
       "      <th></th>\n",
       "      <th>bilirubinemia-2</th>\n",
       "      <th>cirrhosis-2</th>\n",
       "      <th>hepatic failure-2</th>\n",
       "      <th>hepatitis-2</th>\n",
       "      <th>jaundice-2</th>\n",
       "      <th>label_section</th>\n",
       "    </tr>\n",
       "  </thead>\n",
       "  <tbody>\n",
       "    <tr>\n",
       "      <th>0</th>\n",
       "      <td>1</td>\n",
       "      <td>1</td>\n",
       "      <td>2</td>\n",
       "      <td>2</td>\n",
       "      <td>2</td>\n",
       "      <td>nan</td>\n",
       "    </tr>\n",
       "    <tr>\n",
       "      <th>1</th>\n",
       "      <td>1</td>\n",
       "      <td>2</td>\n",
       "      <td>1</td>\n",
       "      <td>2</td>\n",
       "      <td>1</td>\n",
       "      <td>Withdrawn</td>\n",
       "    </tr>\n",
       "    <tr>\n",
       "      <th>2</th>\n",
       "      <td>0</td>\n",
       "      <td>1</td>\n",
       "      <td>2</td>\n",
       "      <td>1</td>\n",
       "      <td>1</td>\n",
       "      <td>Withdrawn</td>\n",
       "    </tr>\n",
       "    <tr>\n",
       "      <th>3</th>\n",
       "      <td>0</td>\n",
       "      <td>1</td>\n",
       "      <td>1</td>\n",
       "      <td>1</td>\n",
       "      <td>1</td>\n",
       "      <td>Withdrawn</td>\n",
       "    </tr>\n",
       "    <tr>\n",
       "      <th>4</th>\n",
       "      <td>2</td>\n",
       "      <td>1</td>\n",
       "      <td>1</td>\n",
       "      <td>1</td>\n",
       "      <td>1</td>\n",
       "      <td>Withdrawn</td>\n",
       "    </tr>\n",
       "  </tbody>\n",
       "</table>"
      ],
      "text/plain": [
       "   bilirubinemia-2  cirrhosis-2  hepatic failure-2  hepatitis-2  jaundice-2 label_section\n",
       "0                1            1                  2            2           2           nan\n",
       "1                1            2                  1            2           1     Withdrawn\n",
       "2                0            1                  2            1           1     Withdrawn\n",
       "3                0            1                  1            1           1     Withdrawn\n",
       "4                2            1                  1            1           1     Withdrawn"
      ]
     },
     "execution_count": 35,
     "metadata": {},
     "output_type": "execute_result"
    }
   ],
   "source": [
    "pred_label.head()"
   ]
  },
  {
   "cell_type": "code",
   "execution_count": 36,
   "metadata": {},
   "outputs": [],
   "source": [
    "counts = pd.DataFrame()\n",
    "counts['counts'] = suma\n",
    "counts['section'] = pred_label['label_section']"
   ]
  },
  {
   "cell_type": "code",
   "execution_count": 75,
   "metadata": {},
   "outputs": [],
   "source": [
    "counts_unk = counts[counts['section'] == 'nan']['counts'].value_counts()"
   ]
  },
  {
   "cell_type": "code",
   "execution_count": 76,
   "metadata": {},
   "outputs": [
    {
     "data": {
      "text/plain": [
       "array(['Boxed Warning', 'Withdrawn', 'nan'], dtype=object)"
      ]
     },
     "execution_count": 76,
     "metadata": {},
     "output_type": "execute_result"
    }
   ],
   "source": [
    "np.unique(counts['section'])"
   ]
  },
  {
   "cell_type": "code",
   "execution_count": 77,
   "metadata": {},
   "outputs": [],
   "source": [
    "withdrawn = counts[counts['section'] != 'nan'].reset_index(drop=True)"
   ]
  },
  {
   "cell_type": "code",
   "execution_count": 79,
   "metadata": {},
   "outputs": [],
   "source": [
    "count_with = withdrawn['counts'].value_counts()"
   ]
  },
  {
   "cell_type": "code",
   "execution_count": 80,
   "metadata": {},
   "outputs": [
    {
     "data": {
      "text/plain": [
       "(36, 2)"
      ]
     },
     "execution_count": 80,
     "metadata": {},
     "output_type": "execute_result"
    }
   ],
   "source": [
    "withdrawn.shape"
   ]
  },
  {
   "cell_type": "code",
   "execution_count": 82,
   "metadata": {},
   "outputs": [
    {
     "data": {
      "text/plain": [
       "0    64\n",
       "1    36\n",
       "2    24\n",
       "3    16\n",
       "4    10\n",
       "Name: counts, dtype: int64"
      ]
     },
     "execution_count": 82,
     "metadata": {},
     "output_type": "execute_result"
    }
   ],
   "source": [
    "counts_unk"
   ]
  },
  {
   "cell_type": "code",
   "execution_count": 62,
   "metadata": {},
   "outputs": [],
   "source": [
    "count_with = count_with.sort_index()"
   ]
  },
  {
   "cell_type": "code",
   "execution_count": 90,
   "metadata": {},
   "outputs": [
    {
     "data": {
      "image/png": "[encoded data removed]",
      "text/plain": [
       "<Figure size 432x288 with 1 Axes>"
      ]
     },
     "metadata": {},
     "output_type": "display_data"
    }
   ],
   "source": [
    "# Plot DILI class as a function of incriminating models. \n",
    "\n",
    "unk = counts_unk.tolist() + [0]\n",
    "withd = count_with.tolist()\n",
    "\n",
    "\n",
    "ind = np.arange(6)    # the x locations for the groups\n",
    "width = 0.5       # the width of the bars: can also be len(x) sequence\n",
    "\n",
    "p1 = plt.bar(ind, unk, width, color='#d62728')\n",
    "p2 = plt.bar(ind, withd, width, bottom=unk)\n",
    "\n",
    "plt.ylabel('counts')\n",
    "plt.title('class counts by number of positive incriminations')\n",
    "\n",
    "plt.xticks(ind, ('0', '1', '2', '3', '4', '5'))\n",
    "plt.yticks(np.arange(0, 81, 10))\n",
    "plt.legend((p1[0], p2[0]), ('Unknown', 'Withdrawn'))\n",
    "\n",
    "plt.show()"
   ]
  },
  {
   "cell_type": "code",
   "execution_count": null,
   "metadata": {},
   "outputs": [],
   "source": []
  }
 ],
 "metadata": {
  "kernelspec": {
   "display_name": "Python 3",
   "language": "python",
   "name": "python3"
  },
  "language_info": {
   "codemirror_mode": {
    "name": "ipython",
    "version": 3
   },
   "file_extension": ".py",
   "mimetype": "text/x-python",
   "name": "python",
   "nbconvert_exporter": "python",
   "pygments_lexer": "ipython3",
   "version": "3.6.4"
  }
 },
 "nbformat": 4,
 "nbformat_minor": 2
}
